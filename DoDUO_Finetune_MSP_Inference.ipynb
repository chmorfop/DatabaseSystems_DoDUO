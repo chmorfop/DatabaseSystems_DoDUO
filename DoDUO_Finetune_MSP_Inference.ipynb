{
  "nbformat": 4,
  "nbformat_minor": 0,
  "metadata": {
    "colab": {
      "provenance": [],
      "machine_shape": "hm",
      "gpuType": "A100",
      "collapsed_sections": [
        "i1KlW6OMgukG"
      ]
    },
    "kernelspec": {
      "name": "python3",
      "display_name": "Python 3"
    },
    "language_info": {
      "name": "python"
    },
    "accelerator": "GPU",
    "gpuClass": "standard",
    "widgets": {
      "application/vnd.jupyter.widget-state+json": {
        "3290d9a630a24aa081866e13d1b760fe": {
          "model_module": "@jupyter-widgets/controls",
          "model_name": "HBoxModel",
          "model_module_version": "1.5.0",
          "state": {
            "_dom_classes": [],
            "_model_module": "@jupyter-widgets/controls",
            "_model_module_version": "1.5.0",
            "_model_name": "HBoxModel",
            "_view_count": null,
            "_view_module": "@jupyter-widgets/controls",
            "_view_module_version": "1.5.0",
            "_view_name": "HBoxView",
            "box_style": "",
            "children": [
              "IPY_MODEL_b63c9939b7cc443cae941af35a25f152",
              "IPY_MODEL_5f66f54111cb4aa5b22b3eccb03907ef",
              "IPY_MODEL_0c60606bcde847f5a0fe68d93f1fe890"
            ],
            "layout": "IPY_MODEL_3fd98dfb9ab141e18441103b202e7084"
          }
        },
        "b63c9939b7cc443cae941af35a25f152": {
          "model_module": "@jupyter-widgets/controls",
          "model_name": "HTMLModel",
          "model_module_version": "1.5.0",
          "state": {
            "_dom_classes": [],
            "_model_module": "@jupyter-widgets/controls",
            "_model_module_version": "1.5.0",
            "_model_name": "HTMLModel",
            "_view_count": null,
            "_view_module": "@jupyter-widgets/controls",
            "_view_module_version": "1.5.0",
            "_view_name": "HTMLView",
            "description": "",
            "description_tooltip": null,
            "layout": "IPY_MODEL_0799bdf7ab7c486cae50419efdefbc8c",
            "placeholder": "​",
            "style": "IPY_MODEL_b204d3b0a14d4f28997d0eb7fd5e9b27",
            "value": "Downloading (…)okenizer_config.json: 100%"
          }
        },
        "5f66f54111cb4aa5b22b3eccb03907ef": {
          "model_module": "@jupyter-widgets/controls",
          "model_name": "FloatProgressModel",
          "model_module_version": "1.5.0",
          "state": {
            "_dom_classes": [],
            "_model_module": "@jupyter-widgets/controls",
            "_model_module_version": "1.5.0",
            "_model_name": "FloatProgressModel",
            "_view_count": null,
            "_view_module": "@jupyter-widgets/controls",
            "_view_module_version": "1.5.0",
            "_view_name": "ProgressView",
            "bar_style": "success",
            "description": "",
            "description_tooltip": null,
            "layout": "IPY_MODEL_464e0c3c5b6a477ba8e17987363000f2",
            "max": 28,
            "min": 0,
            "orientation": "horizontal",
            "style": "IPY_MODEL_5a338f415848442181597401230be06e",
            "value": 28
          }
        },
        "0c60606bcde847f5a0fe68d93f1fe890": {
          "model_module": "@jupyter-widgets/controls",
          "model_name": "HTMLModel",
          "model_module_version": "1.5.0",
          "state": {
            "_dom_classes": [],
            "_model_module": "@jupyter-widgets/controls",
            "_model_module_version": "1.5.0",
            "_model_name": "HTMLModel",
            "_view_count": null,
            "_view_module": "@jupyter-widgets/controls",
            "_view_module_version": "1.5.0",
            "_view_name": "HTMLView",
            "description": "",
            "description_tooltip": null,
            "layout": "IPY_MODEL_447d995f3ca2444da951d46666c688a3",
            "placeholder": "​",
            "style": "IPY_MODEL_7dcf6149a02a4a9685fcae178f459d74",
            "value": " 28.0/28.0 [00:00&lt;00:00, 2.50kB/s]"
          }
        },
        "3fd98dfb9ab141e18441103b202e7084": {
          "model_module": "@jupyter-widgets/base",
          "model_name": "LayoutModel",
          "model_module_version": "1.2.0",
          "state": {
            "_model_module": "@jupyter-widgets/base",
            "_model_module_version": "1.2.0",
            "_model_name": "LayoutModel",
            "_view_count": null,
            "_view_module": "@jupyter-widgets/base",
            "_view_module_version": "1.2.0",
            "_view_name": "LayoutView",
            "align_content": null,
            "align_items": null,
            "align_self": null,
            "border": null,
            "bottom": null,
            "display": null,
            "flex": null,
            "flex_flow": null,
            "grid_area": null,
            "grid_auto_columns": null,
            "grid_auto_flow": null,
            "grid_auto_rows": null,
            "grid_column": null,
            "grid_gap": null,
            "grid_row": null,
            "grid_template_areas": null,
            "grid_template_columns": null,
            "grid_template_rows": null,
            "height": null,
            "justify_content": null,
            "justify_items": null,
            "left": null,
            "margin": null,
            "max_height": null,
            "max_width": null,
            "min_height": null,
            "min_width": null,
            "object_fit": null,
            "object_position": null,
            "order": null,
            "overflow": null,
            "overflow_x": null,
            "overflow_y": null,
            "padding": null,
            "right": null,
            "top": null,
            "visibility": null,
            "width": null
          }
        },
        "0799bdf7ab7c486cae50419efdefbc8c": {
          "model_module": "@jupyter-widgets/base",
          "model_name": "LayoutModel",
          "model_module_version": "1.2.0",
          "state": {
            "_model_module": "@jupyter-widgets/base",
            "_model_module_version": "1.2.0",
            "_model_name": "LayoutModel",
            "_view_count": null,
            "_view_module": "@jupyter-widgets/base",
            "_view_module_version": "1.2.0",
            "_view_name": "LayoutView",
            "align_content": null,
            "align_items": null,
            "align_self": null,
            "border": null,
            "bottom": null,
            "display": null,
            "flex": null,
            "flex_flow": null,
            "grid_area": null,
            "grid_auto_columns": null,
            "grid_auto_flow": null,
            "grid_auto_rows": null,
            "grid_column": null,
            "grid_gap": null,
            "grid_row": null,
            "grid_template_areas": null,
            "grid_template_columns": null,
            "grid_template_rows": null,
            "height": null,
            "justify_content": null,
            "justify_items": null,
            "left": null,
            "margin": null,
            "max_height": null,
            "max_width": null,
            "min_height": null,
            "min_width": null,
            "object_fit": null,
            "object_position": null,
            "order": null,
            "overflow": null,
            "overflow_x": null,
            "overflow_y": null,
            "padding": null,
            "right": null,
            "top": null,
            "visibility": null,
            "width": null
          }
        },
        "b204d3b0a14d4f28997d0eb7fd5e9b27": {
          "model_module": "@jupyter-widgets/controls",
          "model_name": "DescriptionStyleModel",
          "model_module_version": "1.5.0",
          "state": {
            "_model_module": "@jupyter-widgets/controls",
            "_model_module_version": "1.5.0",
            "_model_name": "DescriptionStyleModel",
            "_view_count": null,
            "_view_module": "@jupyter-widgets/base",
            "_view_module_version": "1.2.0",
            "_view_name": "StyleView",
            "description_width": ""
          }
        },
        "464e0c3c5b6a477ba8e17987363000f2": {
          "model_module": "@jupyter-widgets/base",
          "model_name": "LayoutModel",
          "model_module_version": "1.2.0",
          "state": {
            "_model_module": "@jupyter-widgets/base",
            "_model_module_version": "1.2.0",
            "_model_name": "LayoutModel",
            "_view_count": null,
            "_view_module": "@jupyter-widgets/base",
            "_view_module_version": "1.2.0",
            "_view_name": "LayoutView",
            "align_content": null,
            "align_items": null,
            "align_self": null,
            "border": null,
            "bottom": null,
            "display": null,
            "flex": null,
            "flex_flow": null,
            "grid_area": null,
            "grid_auto_columns": null,
            "grid_auto_flow": null,
            "grid_auto_rows": null,
            "grid_column": null,
            "grid_gap": null,
            "grid_row": null,
            "grid_template_areas": null,
            "grid_template_columns": null,
            "grid_template_rows": null,
            "height": null,
            "justify_content": null,
            "justify_items": null,
            "left": null,
            "margin": null,
            "max_height": null,
            "max_width": null,
            "min_height": null,
            "min_width": null,
            "object_fit": null,
            "object_position": null,
            "order": null,
            "overflow": null,
            "overflow_x": null,
            "overflow_y": null,
            "padding": null,
            "right": null,
            "top": null,
            "visibility": null,
            "width": null
          }
        },
        "5a338f415848442181597401230be06e": {
          "model_module": "@jupyter-widgets/controls",
          "model_name": "ProgressStyleModel",
          "model_module_version": "1.5.0",
          "state": {
            "_model_module": "@jupyter-widgets/controls",
            "_model_module_version": "1.5.0",
            "_model_name": "ProgressStyleModel",
            "_view_count": null,
            "_view_module": "@jupyter-widgets/base",
            "_view_module_version": "1.2.0",
            "_view_name": "StyleView",
            "bar_color": null,
            "description_width": ""
          }
        },
        "447d995f3ca2444da951d46666c688a3": {
          "model_module": "@jupyter-widgets/base",
          "model_name": "LayoutModel",
          "model_module_version": "1.2.0",
          "state": {
            "_model_module": "@jupyter-widgets/base",
            "_model_module_version": "1.2.0",
            "_model_name": "LayoutModel",
            "_view_count": null,
            "_view_module": "@jupyter-widgets/base",
            "_view_module_version": "1.2.0",
            "_view_name": "LayoutView",
            "align_content": null,
            "align_items": null,
            "align_self": null,
            "border": null,
            "bottom": null,
            "display": null,
            "flex": null,
            "flex_flow": null,
            "grid_area": null,
            "grid_auto_columns": null,
            "grid_auto_flow": null,
            "grid_auto_rows": null,
            "grid_column": null,
            "grid_gap": null,
            "grid_row": null,
            "grid_template_areas": null,
            "grid_template_columns": null,
            "grid_template_rows": null,
            "height": null,
            "justify_content": null,
            "justify_items": null,
            "left": null,
            "margin": null,
            "max_height": null,
            "max_width": null,
            "min_height": null,
            "min_width": null,
            "object_fit": null,
            "object_position": null,
            "order": null,
            "overflow": null,
            "overflow_x": null,
            "overflow_y": null,
            "padding": null,
            "right": null,
            "top": null,
            "visibility": null,
            "width": null
          }
        },
        "7dcf6149a02a4a9685fcae178f459d74": {
          "model_module": "@jupyter-widgets/controls",
          "model_name": "DescriptionStyleModel",
          "model_module_version": "1.5.0",
          "state": {
            "_model_module": "@jupyter-widgets/controls",
            "_model_module_version": "1.5.0",
            "_model_name": "DescriptionStyleModel",
            "_view_count": null,
            "_view_module": "@jupyter-widgets/base",
            "_view_module_version": "1.2.0",
            "_view_name": "StyleView",
            "description_width": ""
          }
        },
        "20864e5d6c9c45c192ee3df80ffe3752": {
          "model_module": "@jupyter-widgets/controls",
          "model_name": "HBoxModel",
          "model_module_version": "1.5.0",
          "state": {
            "_dom_classes": [],
            "_model_module": "@jupyter-widgets/controls",
            "_model_module_version": "1.5.0",
            "_model_name": "HBoxModel",
            "_view_count": null,
            "_view_module": "@jupyter-widgets/controls",
            "_view_module_version": "1.5.0",
            "_view_name": "HBoxView",
            "box_style": "",
            "children": [
              "IPY_MODEL_ef2c2e294b194e44868340c7fd9729a0",
              "IPY_MODEL_00d3ce8a1fd646a8874f2b145ccdcf08",
              "IPY_MODEL_001cb94ece7d4770ba133f209a4e4ead"
            ],
            "layout": "IPY_MODEL_d12c4630d10445b58cdc058ea14c0197"
          }
        },
        "ef2c2e294b194e44868340c7fd9729a0": {
          "model_module": "@jupyter-widgets/controls",
          "model_name": "HTMLModel",
          "model_module_version": "1.5.0",
          "state": {
            "_dom_classes": [],
            "_model_module": "@jupyter-widgets/controls",
            "_model_module_version": "1.5.0",
            "_model_name": "HTMLModel",
            "_view_count": null,
            "_view_module": "@jupyter-widgets/controls",
            "_view_module_version": "1.5.0",
            "_view_name": "HTMLView",
            "description": "",
            "description_tooltip": null,
            "layout": "IPY_MODEL_32d83736c39244028f4e3a199674a71b",
            "placeholder": "​",
            "style": "IPY_MODEL_055a6930dbe04c52b2bf674489bf91ce",
            "value": "Downloading (…)lve/main/config.json: 100%"
          }
        },
        "00d3ce8a1fd646a8874f2b145ccdcf08": {
          "model_module": "@jupyter-widgets/controls",
          "model_name": "FloatProgressModel",
          "model_module_version": "1.5.0",
          "state": {
            "_dom_classes": [],
            "_model_module": "@jupyter-widgets/controls",
            "_model_module_version": "1.5.0",
            "_model_name": "FloatProgressModel",
            "_view_count": null,
            "_view_module": "@jupyter-widgets/controls",
            "_view_module_version": "1.5.0",
            "_view_name": "ProgressView",
            "bar_style": "success",
            "description": "",
            "description_tooltip": null,
            "layout": "IPY_MODEL_babdc33e3b6a4251b3a828e302e403f2",
            "max": 570,
            "min": 0,
            "orientation": "horizontal",
            "style": "IPY_MODEL_9edcb012fd514aaebd8c1f1bf292a696",
            "value": 570
          }
        },
        "001cb94ece7d4770ba133f209a4e4ead": {
          "model_module": "@jupyter-widgets/controls",
          "model_name": "HTMLModel",
          "model_module_version": "1.5.0",
          "state": {
            "_dom_classes": [],
            "_model_module": "@jupyter-widgets/controls",
            "_model_module_version": "1.5.0",
            "_model_name": "HTMLModel",
            "_view_count": null,
            "_view_module": "@jupyter-widgets/controls",
            "_view_module_version": "1.5.0",
            "_view_name": "HTMLView",
            "description": "",
            "description_tooltip": null,
            "layout": "IPY_MODEL_25c5cf4364a143afbe613e77a122d911",
            "placeholder": "​",
            "style": "IPY_MODEL_7c4e126847684ffebb43cf3b701c05fa",
            "value": " 570/570 [00:00&lt;00:00, 46.2kB/s]"
          }
        },
        "d12c4630d10445b58cdc058ea14c0197": {
          "model_module": "@jupyter-widgets/base",
          "model_name": "LayoutModel",
          "model_module_version": "1.2.0",
          "state": {
            "_model_module": "@jupyter-widgets/base",
            "_model_module_version": "1.2.0",
            "_model_name": "LayoutModel",
            "_view_count": null,
            "_view_module": "@jupyter-widgets/base",
            "_view_module_version": "1.2.0",
            "_view_name": "LayoutView",
            "align_content": null,
            "align_items": null,
            "align_self": null,
            "border": null,
            "bottom": null,
            "display": null,
            "flex": null,
            "flex_flow": null,
            "grid_area": null,
            "grid_auto_columns": null,
            "grid_auto_flow": null,
            "grid_auto_rows": null,
            "grid_column": null,
            "grid_gap": null,
            "grid_row": null,
            "grid_template_areas": null,
            "grid_template_columns": null,
            "grid_template_rows": null,
            "height": null,
            "justify_content": null,
            "justify_items": null,
            "left": null,
            "margin": null,
            "max_height": null,
            "max_width": null,
            "min_height": null,
            "min_width": null,
            "object_fit": null,
            "object_position": null,
            "order": null,
            "overflow": null,
            "overflow_x": null,
            "overflow_y": null,
            "padding": null,
            "right": null,
            "top": null,
            "visibility": null,
            "width": null
          }
        },
        "32d83736c39244028f4e3a199674a71b": {
          "model_module": "@jupyter-widgets/base",
          "model_name": "LayoutModel",
          "model_module_version": "1.2.0",
          "state": {
            "_model_module": "@jupyter-widgets/base",
            "_model_module_version": "1.2.0",
            "_model_name": "LayoutModel",
            "_view_count": null,
            "_view_module": "@jupyter-widgets/base",
            "_view_module_version": "1.2.0",
            "_view_name": "LayoutView",
            "align_content": null,
            "align_items": null,
            "align_self": null,
            "border": null,
            "bottom": null,
            "display": null,
            "flex": null,
            "flex_flow": null,
            "grid_area": null,
            "grid_auto_columns": null,
            "grid_auto_flow": null,
            "grid_auto_rows": null,
            "grid_column": null,
            "grid_gap": null,
            "grid_row": null,
            "grid_template_areas": null,
            "grid_template_columns": null,
            "grid_template_rows": null,
            "height": null,
            "justify_content": null,
            "justify_items": null,
            "left": null,
            "margin": null,
            "max_height": null,
            "max_width": null,
            "min_height": null,
            "min_width": null,
            "object_fit": null,
            "object_position": null,
            "order": null,
            "overflow": null,
            "overflow_x": null,
            "overflow_y": null,
            "padding": null,
            "right": null,
            "top": null,
            "visibility": null,
            "width": null
          }
        },
        "055a6930dbe04c52b2bf674489bf91ce": {
          "model_module": "@jupyter-widgets/controls",
          "model_name": "DescriptionStyleModel",
          "model_module_version": "1.5.0",
          "state": {
            "_model_module": "@jupyter-widgets/controls",
            "_model_module_version": "1.5.0",
            "_model_name": "DescriptionStyleModel",
            "_view_count": null,
            "_view_module": "@jupyter-widgets/base",
            "_view_module_version": "1.2.0",
            "_view_name": "StyleView",
            "description_width": ""
          }
        },
        "babdc33e3b6a4251b3a828e302e403f2": {
          "model_module": "@jupyter-widgets/base",
          "model_name": "LayoutModel",
          "model_module_version": "1.2.0",
          "state": {
            "_model_module": "@jupyter-widgets/base",
            "_model_module_version": "1.2.0",
            "_model_name": "LayoutModel",
            "_view_count": null,
            "_view_module": "@jupyter-widgets/base",
            "_view_module_version": "1.2.0",
            "_view_name": "LayoutView",
            "align_content": null,
            "align_items": null,
            "align_self": null,
            "border": null,
            "bottom": null,
            "display": null,
            "flex": null,
            "flex_flow": null,
            "grid_area": null,
            "grid_auto_columns": null,
            "grid_auto_flow": null,
            "grid_auto_rows": null,
            "grid_column": null,
            "grid_gap": null,
            "grid_row": null,
            "grid_template_areas": null,
            "grid_template_columns": null,
            "grid_template_rows": null,
            "height": null,
            "justify_content": null,
            "justify_items": null,
            "left": null,
            "margin": null,
            "max_height": null,
            "max_width": null,
            "min_height": null,
            "min_width": null,
            "object_fit": null,
            "object_position": null,
            "order": null,
            "overflow": null,
            "overflow_x": null,
            "overflow_y": null,
            "padding": null,
            "right": null,
            "top": null,
            "visibility": null,
            "width": null
          }
        },
        "9edcb012fd514aaebd8c1f1bf292a696": {
          "model_module": "@jupyter-widgets/controls",
          "model_name": "ProgressStyleModel",
          "model_module_version": "1.5.0",
          "state": {
            "_model_module": "@jupyter-widgets/controls",
            "_model_module_version": "1.5.0",
            "_model_name": "ProgressStyleModel",
            "_view_count": null,
            "_view_module": "@jupyter-widgets/base",
            "_view_module_version": "1.2.0",
            "_view_name": "StyleView",
            "bar_color": null,
            "description_width": ""
          }
        },
        "25c5cf4364a143afbe613e77a122d911": {
          "model_module": "@jupyter-widgets/base",
          "model_name": "LayoutModel",
          "model_module_version": "1.2.0",
          "state": {
            "_model_module": "@jupyter-widgets/base",
            "_model_module_version": "1.2.0",
            "_model_name": "LayoutModel",
            "_view_count": null,
            "_view_module": "@jupyter-widgets/base",
            "_view_module_version": "1.2.0",
            "_view_name": "LayoutView",
            "align_content": null,
            "align_items": null,
            "align_self": null,
            "border": null,
            "bottom": null,
            "display": null,
            "flex": null,
            "flex_flow": null,
            "grid_area": null,
            "grid_auto_columns": null,
            "grid_auto_flow": null,
            "grid_auto_rows": null,
            "grid_column": null,
            "grid_gap": null,
            "grid_row": null,
            "grid_template_areas": null,
            "grid_template_columns": null,
            "grid_template_rows": null,
            "height": null,
            "justify_content": null,
            "justify_items": null,
            "left": null,
            "margin": null,
            "max_height": null,
            "max_width": null,
            "min_height": null,
            "min_width": null,
            "object_fit": null,
            "object_position": null,
            "order": null,
            "overflow": null,
            "overflow_x": null,
            "overflow_y": null,
            "padding": null,
            "right": null,
            "top": null,
            "visibility": null,
            "width": null
          }
        },
        "7c4e126847684ffebb43cf3b701c05fa": {
          "model_module": "@jupyter-widgets/controls",
          "model_name": "DescriptionStyleModel",
          "model_module_version": "1.5.0",
          "state": {
            "_model_module": "@jupyter-widgets/controls",
            "_model_module_version": "1.5.0",
            "_model_name": "DescriptionStyleModel",
            "_view_count": null,
            "_view_module": "@jupyter-widgets/base",
            "_view_module_version": "1.2.0",
            "_view_name": "StyleView",
            "description_width": ""
          }
        },
        "9859e349444c4d259e878d1b9dd7e69d": {
          "model_module": "@jupyter-widgets/controls",
          "model_name": "HBoxModel",
          "model_module_version": "1.5.0",
          "state": {
            "_dom_classes": [],
            "_model_module": "@jupyter-widgets/controls",
            "_model_module_version": "1.5.0",
            "_model_name": "HBoxModel",
            "_view_count": null,
            "_view_module": "@jupyter-widgets/controls",
            "_view_module_version": "1.5.0",
            "_view_name": "HBoxView",
            "box_style": "",
            "children": [
              "IPY_MODEL_54acf1a8592c41b5b53bb719001f044b",
              "IPY_MODEL_55be0f9219e845398cdd7486eb3c0a31",
              "IPY_MODEL_8e6cfb1cb6f0464aadd124a9a2e15d5a"
            ],
            "layout": "IPY_MODEL_87c932e0923240e19f3719e2a6e41c3a"
          }
        },
        "54acf1a8592c41b5b53bb719001f044b": {
          "model_module": "@jupyter-widgets/controls",
          "model_name": "HTMLModel",
          "model_module_version": "1.5.0",
          "state": {
            "_dom_classes": [],
            "_model_module": "@jupyter-widgets/controls",
            "_model_module_version": "1.5.0",
            "_model_name": "HTMLModel",
            "_view_count": null,
            "_view_module": "@jupyter-widgets/controls",
            "_view_module_version": "1.5.0",
            "_view_name": "HTMLView",
            "description": "",
            "description_tooltip": null,
            "layout": "IPY_MODEL_8135bbbcc9914329ab245a4aeed61d82",
            "placeholder": "​",
            "style": "IPY_MODEL_7f3008d833e143d39e08ffcab8f486b5",
            "value": "Downloading (…)solve/main/vocab.txt: 100%"
          }
        },
        "55be0f9219e845398cdd7486eb3c0a31": {
          "model_module": "@jupyter-widgets/controls",
          "model_name": "FloatProgressModel",
          "model_module_version": "1.5.0",
          "state": {
            "_dom_classes": [],
            "_model_module": "@jupyter-widgets/controls",
            "_model_module_version": "1.5.0",
            "_model_name": "FloatProgressModel",
            "_view_count": null,
            "_view_module": "@jupyter-widgets/controls",
            "_view_module_version": "1.5.0",
            "_view_name": "ProgressView",
            "bar_style": "success",
            "description": "",
            "description_tooltip": null,
            "layout": "IPY_MODEL_72d08831c2fc478c8be07ad4caa6670c",
            "max": 231508,
            "min": 0,
            "orientation": "horizontal",
            "style": "IPY_MODEL_ff4a8b022dff43a2baa304cef5c3de34",
            "value": 231508
          }
        },
        "8e6cfb1cb6f0464aadd124a9a2e15d5a": {
          "model_module": "@jupyter-widgets/controls",
          "model_name": "HTMLModel",
          "model_module_version": "1.5.0",
          "state": {
            "_dom_classes": [],
            "_model_module": "@jupyter-widgets/controls",
            "_model_module_version": "1.5.0",
            "_model_name": "HTMLModel",
            "_view_count": null,
            "_view_module": "@jupyter-widgets/controls",
            "_view_module_version": "1.5.0",
            "_view_name": "HTMLView",
            "description": "",
            "description_tooltip": null,
            "layout": "IPY_MODEL_d9f14623edd34d788b7bb2346dc3010b",
            "placeholder": "​",
            "style": "IPY_MODEL_3baac79386904a0ca01b3114debd7a1b",
            "value": " 232k/232k [00:00&lt;00:00, 1.11MB/s]"
          }
        },
        "87c932e0923240e19f3719e2a6e41c3a": {
          "model_module": "@jupyter-widgets/base",
          "model_name": "LayoutModel",
          "model_module_version": "1.2.0",
          "state": {
            "_model_module": "@jupyter-widgets/base",
            "_model_module_version": "1.2.0",
            "_model_name": "LayoutModel",
            "_view_count": null,
            "_view_module": "@jupyter-widgets/base",
            "_view_module_version": "1.2.0",
            "_view_name": "LayoutView",
            "align_content": null,
            "align_items": null,
            "align_self": null,
            "border": null,
            "bottom": null,
            "display": null,
            "flex": null,
            "flex_flow": null,
            "grid_area": null,
            "grid_auto_columns": null,
            "grid_auto_flow": null,
            "grid_auto_rows": null,
            "grid_column": null,
            "grid_gap": null,
            "grid_row": null,
            "grid_template_areas": null,
            "grid_template_columns": null,
            "grid_template_rows": null,
            "height": null,
            "justify_content": null,
            "justify_items": null,
            "left": null,
            "margin": null,
            "max_height": null,
            "max_width": null,
            "min_height": null,
            "min_width": null,
            "object_fit": null,
            "object_position": null,
            "order": null,
            "overflow": null,
            "overflow_x": null,
            "overflow_y": null,
            "padding": null,
            "right": null,
            "top": null,
            "visibility": null,
            "width": null
          }
        },
        "8135bbbcc9914329ab245a4aeed61d82": {
          "model_module": "@jupyter-widgets/base",
          "model_name": "LayoutModel",
          "model_module_version": "1.2.0",
          "state": {
            "_model_module": "@jupyter-widgets/base",
            "_model_module_version": "1.2.0",
            "_model_name": "LayoutModel",
            "_view_count": null,
            "_view_module": "@jupyter-widgets/base",
            "_view_module_version": "1.2.0",
            "_view_name": "LayoutView",
            "align_content": null,
            "align_items": null,
            "align_self": null,
            "border": null,
            "bottom": null,
            "display": null,
            "flex": null,
            "flex_flow": null,
            "grid_area": null,
            "grid_auto_columns": null,
            "grid_auto_flow": null,
            "grid_auto_rows": null,
            "grid_column": null,
            "grid_gap": null,
            "grid_row": null,
            "grid_template_areas": null,
            "grid_template_columns": null,
            "grid_template_rows": null,
            "height": null,
            "justify_content": null,
            "justify_items": null,
            "left": null,
            "margin": null,
            "max_height": null,
            "max_width": null,
            "min_height": null,
            "min_width": null,
            "object_fit": null,
            "object_position": null,
            "order": null,
            "overflow": null,
            "overflow_x": null,
            "overflow_y": null,
            "padding": null,
            "right": null,
            "top": null,
            "visibility": null,
            "width": null
          }
        },
        "7f3008d833e143d39e08ffcab8f486b5": {
          "model_module": "@jupyter-widgets/controls",
          "model_name": "DescriptionStyleModel",
          "model_module_version": "1.5.0",
          "state": {
            "_model_module": "@jupyter-widgets/controls",
            "_model_module_version": "1.5.0",
            "_model_name": "DescriptionStyleModel",
            "_view_count": null,
            "_view_module": "@jupyter-widgets/base",
            "_view_module_version": "1.2.0",
            "_view_name": "StyleView",
            "description_width": ""
          }
        },
        "72d08831c2fc478c8be07ad4caa6670c": {
          "model_module": "@jupyter-widgets/base",
          "model_name": "LayoutModel",
          "model_module_version": "1.2.0",
          "state": {
            "_model_module": "@jupyter-widgets/base",
            "_model_module_version": "1.2.0",
            "_model_name": "LayoutModel",
            "_view_count": null,
            "_view_module": "@jupyter-widgets/base",
            "_view_module_version": "1.2.0",
            "_view_name": "LayoutView",
            "align_content": null,
            "align_items": null,
            "align_self": null,
            "border": null,
            "bottom": null,
            "display": null,
            "flex": null,
            "flex_flow": null,
            "grid_area": null,
            "grid_auto_columns": null,
            "grid_auto_flow": null,
            "grid_auto_rows": null,
            "grid_column": null,
            "grid_gap": null,
            "grid_row": null,
            "grid_template_areas": null,
            "grid_template_columns": null,
            "grid_template_rows": null,
            "height": null,
            "justify_content": null,
            "justify_items": null,
            "left": null,
            "margin": null,
            "max_height": null,
            "max_width": null,
            "min_height": null,
            "min_width": null,
            "object_fit": null,
            "object_position": null,
            "order": null,
            "overflow": null,
            "overflow_x": null,
            "overflow_y": null,
            "padding": null,
            "right": null,
            "top": null,
            "visibility": null,
            "width": null
          }
        },
        "ff4a8b022dff43a2baa304cef5c3de34": {
          "model_module": "@jupyter-widgets/controls",
          "model_name": "ProgressStyleModel",
          "model_module_version": "1.5.0",
          "state": {
            "_model_module": "@jupyter-widgets/controls",
            "_model_module_version": "1.5.0",
            "_model_name": "ProgressStyleModel",
            "_view_count": null,
            "_view_module": "@jupyter-widgets/base",
            "_view_module_version": "1.2.0",
            "_view_name": "StyleView",
            "bar_color": null,
            "description_width": ""
          }
        },
        "d9f14623edd34d788b7bb2346dc3010b": {
          "model_module": "@jupyter-widgets/base",
          "model_name": "LayoutModel",
          "model_module_version": "1.2.0",
          "state": {
            "_model_module": "@jupyter-widgets/base",
            "_model_module_version": "1.2.0",
            "_model_name": "LayoutModel",
            "_view_count": null,
            "_view_module": "@jupyter-widgets/base",
            "_view_module_version": "1.2.0",
            "_view_name": "LayoutView",
            "align_content": null,
            "align_items": null,
            "align_self": null,
            "border": null,
            "bottom": null,
            "display": null,
            "flex": null,
            "flex_flow": null,
            "grid_area": null,
            "grid_auto_columns": null,
            "grid_auto_flow": null,
            "grid_auto_rows": null,
            "grid_column": null,
            "grid_gap": null,
            "grid_row": null,
            "grid_template_areas": null,
            "grid_template_columns": null,
            "grid_template_rows": null,
            "height": null,
            "justify_content": null,
            "justify_items": null,
            "left": null,
            "margin": null,
            "max_height": null,
            "max_width": null,
            "min_height": null,
            "min_width": null,
            "object_fit": null,
            "object_position": null,
            "order": null,
            "overflow": null,
            "overflow_x": null,
            "overflow_y": null,
            "padding": null,
            "right": null,
            "top": null,
            "visibility": null,
            "width": null
          }
        },
        "3baac79386904a0ca01b3114debd7a1b": {
          "model_module": "@jupyter-widgets/controls",
          "model_name": "DescriptionStyleModel",
          "model_module_version": "1.5.0",
          "state": {
            "_model_module": "@jupyter-widgets/controls",
            "_model_module_version": "1.5.0",
            "_model_name": "DescriptionStyleModel",
            "_view_count": null,
            "_view_module": "@jupyter-widgets/base",
            "_view_module_version": "1.2.0",
            "_view_name": "StyleView",
            "description_width": ""
          }
        },
        "6124cb195c0d49c89c1c7c6be8111dd9": {
          "model_module": "@jupyter-widgets/controls",
          "model_name": "HBoxModel",
          "model_module_version": "1.5.0",
          "state": {
            "_dom_classes": [],
            "_model_module": "@jupyter-widgets/controls",
            "_model_module_version": "1.5.0",
            "_model_name": "HBoxModel",
            "_view_count": null,
            "_view_module": "@jupyter-widgets/controls",
            "_view_module_version": "1.5.0",
            "_view_name": "HBoxView",
            "box_style": "",
            "children": [
              "IPY_MODEL_7dbb8d94abd3408dad275768bc949acf",
              "IPY_MODEL_2b67f7cc77894c8db0f028489580efe3",
              "IPY_MODEL_559b5e0d764f45e7aaa58b10c38ef495"
            ],
            "layout": "IPY_MODEL_183d87435cb04a3db7925d53de656887"
          }
        },
        "7dbb8d94abd3408dad275768bc949acf": {
          "model_module": "@jupyter-widgets/controls",
          "model_name": "HTMLModel",
          "model_module_version": "1.5.0",
          "state": {
            "_dom_classes": [],
            "_model_module": "@jupyter-widgets/controls",
            "_model_module_version": "1.5.0",
            "_model_name": "HTMLModel",
            "_view_count": null,
            "_view_module": "@jupyter-widgets/controls",
            "_view_module_version": "1.5.0",
            "_view_name": "HTMLView",
            "description": "",
            "description_tooltip": null,
            "layout": "IPY_MODEL_075c2b88ac424fc1b82d8c68bd026a06",
            "placeholder": "​",
            "style": "IPY_MODEL_995e2971d7b1460ab433870aac5facc8",
            "value": "Downloading (…)/main/tokenizer.json: 100%"
          }
        },
        "2b67f7cc77894c8db0f028489580efe3": {
          "model_module": "@jupyter-widgets/controls",
          "model_name": "FloatProgressModel",
          "model_module_version": "1.5.0",
          "state": {
            "_dom_classes": [],
            "_model_module": "@jupyter-widgets/controls",
            "_model_module_version": "1.5.0",
            "_model_name": "FloatProgressModel",
            "_view_count": null,
            "_view_module": "@jupyter-widgets/controls",
            "_view_module_version": "1.5.0",
            "_view_name": "ProgressView",
            "bar_style": "success",
            "description": "",
            "description_tooltip": null,
            "layout": "IPY_MODEL_c2425818e619459bba42d90ea52b0a56",
            "max": 466062,
            "min": 0,
            "orientation": "horizontal",
            "style": "IPY_MODEL_d1cd7b6f48324fa687c3c3e40d62fabf",
            "value": 466062
          }
        },
        "559b5e0d764f45e7aaa58b10c38ef495": {
          "model_module": "@jupyter-widgets/controls",
          "model_name": "HTMLModel",
          "model_module_version": "1.5.0",
          "state": {
            "_dom_classes": [],
            "_model_module": "@jupyter-widgets/controls",
            "_model_module_version": "1.5.0",
            "_model_name": "HTMLModel",
            "_view_count": null,
            "_view_module": "@jupyter-widgets/controls",
            "_view_module_version": "1.5.0",
            "_view_name": "HTMLView",
            "description": "",
            "description_tooltip": null,
            "layout": "IPY_MODEL_fa642f46eede4f15921c741011d1d95d",
            "placeholder": "​",
            "style": "IPY_MODEL_9fd1806f5bd44e8c96c55388c1f73c65",
            "value": " 466k/466k [00:00&lt;00:00, 2.24MB/s]"
          }
        },
        "183d87435cb04a3db7925d53de656887": {
          "model_module": "@jupyter-widgets/base",
          "model_name": "LayoutModel",
          "model_module_version": "1.2.0",
          "state": {
            "_model_module": "@jupyter-widgets/base",
            "_model_module_version": "1.2.0",
            "_model_name": "LayoutModel",
            "_view_count": null,
            "_view_module": "@jupyter-widgets/base",
            "_view_module_version": "1.2.0",
            "_view_name": "LayoutView",
            "align_content": null,
            "align_items": null,
            "align_self": null,
            "border": null,
            "bottom": null,
            "display": null,
            "flex": null,
            "flex_flow": null,
            "grid_area": null,
            "grid_auto_columns": null,
            "grid_auto_flow": null,
            "grid_auto_rows": null,
            "grid_column": null,
            "grid_gap": null,
            "grid_row": null,
            "grid_template_areas": null,
            "grid_template_columns": null,
            "grid_template_rows": null,
            "height": null,
            "justify_content": null,
            "justify_items": null,
            "left": null,
            "margin": null,
            "max_height": null,
            "max_width": null,
            "min_height": null,
            "min_width": null,
            "object_fit": null,
            "object_position": null,
            "order": null,
            "overflow": null,
            "overflow_x": null,
            "overflow_y": null,
            "padding": null,
            "right": null,
            "top": null,
            "visibility": null,
            "width": null
          }
        },
        "075c2b88ac424fc1b82d8c68bd026a06": {
          "model_module": "@jupyter-widgets/base",
          "model_name": "LayoutModel",
          "model_module_version": "1.2.0",
          "state": {
            "_model_module": "@jupyter-widgets/base",
            "_model_module_version": "1.2.0",
            "_model_name": "LayoutModel",
            "_view_count": null,
            "_view_module": "@jupyter-widgets/base",
            "_view_module_version": "1.2.0",
            "_view_name": "LayoutView",
            "align_content": null,
            "align_items": null,
            "align_self": null,
            "border": null,
            "bottom": null,
            "display": null,
            "flex": null,
            "flex_flow": null,
            "grid_area": null,
            "grid_auto_columns": null,
            "grid_auto_flow": null,
            "grid_auto_rows": null,
            "grid_column": null,
            "grid_gap": null,
            "grid_row": null,
            "grid_template_areas": null,
            "grid_template_columns": null,
            "grid_template_rows": null,
            "height": null,
            "justify_content": null,
            "justify_items": null,
            "left": null,
            "margin": null,
            "max_height": null,
            "max_width": null,
            "min_height": null,
            "min_width": null,
            "object_fit": null,
            "object_position": null,
            "order": null,
            "overflow": null,
            "overflow_x": null,
            "overflow_y": null,
            "padding": null,
            "right": null,
            "top": null,
            "visibility": null,
            "width": null
          }
        },
        "995e2971d7b1460ab433870aac5facc8": {
          "model_module": "@jupyter-widgets/controls",
          "model_name": "DescriptionStyleModel",
          "model_module_version": "1.5.0",
          "state": {
            "_model_module": "@jupyter-widgets/controls",
            "_model_module_version": "1.5.0",
            "_model_name": "DescriptionStyleModel",
            "_view_count": null,
            "_view_module": "@jupyter-widgets/base",
            "_view_module_version": "1.2.0",
            "_view_name": "StyleView",
            "description_width": ""
          }
        },
        "c2425818e619459bba42d90ea52b0a56": {
          "model_module": "@jupyter-widgets/base",
          "model_name": "LayoutModel",
          "model_module_version": "1.2.0",
          "state": {
            "_model_module": "@jupyter-widgets/base",
            "_model_module_version": "1.2.0",
            "_model_name": "LayoutModel",
            "_view_count": null,
            "_view_module": "@jupyter-widgets/base",
            "_view_module_version": "1.2.0",
            "_view_name": "LayoutView",
            "align_content": null,
            "align_items": null,
            "align_self": null,
            "border": null,
            "bottom": null,
            "display": null,
            "flex": null,
            "flex_flow": null,
            "grid_area": null,
            "grid_auto_columns": null,
            "grid_auto_flow": null,
            "grid_auto_rows": null,
            "grid_column": null,
            "grid_gap": null,
            "grid_row": null,
            "grid_template_areas": null,
            "grid_template_columns": null,
            "grid_template_rows": null,
            "height": null,
            "justify_content": null,
            "justify_items": null,
            "left": null,
            "margin": null,
            "max_height": null,
            "max_width": null,
            "min_height": null,
            "min_width": null,
            "object_fit": null,
            "object_position": null,
            "order": null,
            "overflow": null,
            "overflow_x": null,
            "overflow_y": null,
            "padding": null,
            "right": null,
            "top": null,
            "visibility": null,
            "width": null
          }
        },
        "d1cd7b6f48324fa687c3c3e40d62fabf": {
          "model_module": "@jupyter-widgets/controls",
          "model_name": "ProgressStyleModel",
          "model_module_version": "1.5.0",
          "state": {
            "_model_module": "@jupyter-widgets/controls",
            "_model_module_version": "1.5.0",
            "_model_name": "ProgressStyleModel",
            "_view_count": null,
            "_view_module": "@jupyter-widgets/base",
            "_view_module_version": "1.2.0",
            "_view_name": "StyleView",
            "bar_color": null,
            "description_width": ""
          }
        },
        "fa642f46eede4f15921c741011d1d95d": {
          "model_module": "@jupyter-widgets/base",
          "model_name": "LayoutModel",
          "model_module_version": "1.2.0",
          "state": {
            "_model_module": "@jupyter-widgets/base",
            "_model_module_version": "1.2.0",
            "_model_name": "LayoutModel",
            "_view_count": null,
            "_view_module": "@jupyter-widgets/base",
            "_view_module_version": "1.2.0",
            "_view_name": "LayoutView",
            "align_content": null,
            "align_items": null,
            "align_self": null,
            "border": null,
            "bottom": null,
            "display": null,
            "flex": null,
            "flex_flow": null,
            "grid_area": null,
            "grid_auto_columns": null,
            "grid_auto_flow": null,
            "grid_auto_rows": null,
            "grid_column": null,
            "grid_gap": null,
            "grid_row": null,
            "grid_template_areas": null,
            "grid_template_columns": null,
            "grid_template_rows": null,
            "height": null,
            "justify_content": null,
            "justify_items": null,
            "left": null,
            "margin": null,
            "max_height": null,
            "max_width": null,
            "min_height": null,
            "min_width": null,
            "object_fit": null,
            "object_position": null,
            "order": null,
            "overflow": null,
            "overflow_x": null,
            "overflow_y": null,
            "padding": null,
            "right": null,
            "top": null,
            "visibility": null,
            "width": null
          }
        },
        "9fd1806f5bd44e8c96c55388c1f73c65": {
          "model_module": "@jupyter-widgets/controls",
          "model_name": "DescriptionStyleModel",
          "model_module_version": "1.5.0",
          "state": {
            "_model_module": "@jupyter-widgets/controls",
            "_model_module_version": "1.5.0",
            "_model_name": "DescriptionStyleModel",
            "_view_count": null,
            "_view_module": "@jupyter-widgets/base",
            "_view_module_version": "1.2.0",
            "_view_name": "StyleView",
            "description_width": ""
          }
        },
        "9411628accea43f8b2122416da2bd438": {
          "model_module": "@jupyter-widgets/controls",
          "model_name": "HBoxModel",
          "model_module_version": "1.5.0",
          "state": {
            "_dom_classes": [],
            "_model_module": "@jupyter-widgets/controls",
            "_model_module_version": "1.5.0",
            "_model_name": "HBoxModel",
            "_view_count": null,
            "_view_module": "@jupyter-widgets/controls",
            "_view_module_version": "1.5.0",
            "_view_name": "HBoxView",
            "box_style": "",
            "children": [
              "IPY_MODEL_41fe349fc6a1472880a2a4e40196897e",
              "IPY_MODEL_fa2ea6837e244f9681353b1dc2d95382",
              "IPY_MODEL_743a55a8f7524321bd87b0a35705b63e"
            ],
            "layout": "IPY_MODEL_72e2d9a124514bf598864db382e31618"
          }
        },
        "41fe349fc6a1472880a2a4e40196897e": {
          "model_module": "@jupyter-widgets/controls",
          "model_name": "HTMLModel",
          "model_module_version": "1.5.0",
          "state": {
            "_dom_classes": [],
            "_model_module": "@jupyter-widgets/controls",
            "_model_module_version": "1.5.0",
            "_model_name": "HTMLModel",
            "_view_count": null,
            "_view_module": "@jupyter-widgets/controls",
            "_view_module_version": "1.5.0",
            "_view_name": "HTMLView",
            "description": "",
            "description_tooltip": null,
            "layout": "IPY_MODEL_95a880001dff4a758b782711b7cfadca",
            "placeholder": "​",
            "style": "IPY_MODEL_3b839505b062434588549908745a9967",
            "value": "Downloading pytorch_model.bin: 100%"
          }
        },
        "fa2ea6837e244f9681353b1dc2d95382": {
          "model_module": "@jupyter-widgets/controls",
          "model_name": "FloatProgressModel",
          "model_module_version": "1.5.0",
          "state": {
            "_dom_classes": [],
            "_model_module": "@jupyter-widgets/controls",
            "_model_module_version": "1.5.0",
            "_model_name": "FloatProgressModel",
            "_view_count": null,
            "_view_module": "@jupyter-widgets/controls",
            "_view_module_version": "1.5.0",
            "_view_name": "ProgressView",
            "bar_style": "success",
            "description": "",
            "description_tooltip": null,
            "layout": "IPY_MODEL_a49cb0165e15400c9a34d00177aa7961",
            "max": 440473133,
            "min": 0,
            "orientation": "horizontal",
            "style": "IPY_MODEL_a3af4e78eb354f438dc0a6c494b880a0",
            "value": 440473133
          }
        },
        "743a55a8f7524321bd87b0a35705b63e": {
          "model_module": "@jupyter-widgets/controls",
          "model_name": "HTMLModel",
          "model_module_version": "1.5.0",
          "state": {
            "_dom_classes": [],
            "_model_module": "@jupyter-widgets/controls",
            "_model_module_version": "1.5.0",
            "_model_name": "HTMLModel",
            "_view_count": null,
            "_view_module": "@jupyter-widgets/controls",
            "_view_module_version": "1.5.0",
            "_view_name": "HTMLView",
            "description": "",
            "description_tooltip": null,
            "layout": "IPY_MODEL_5cc4ce6f64504223979962c4de489a2c",
            "placeholder": "​",
            "style": "IPY_MODEL_4e6779c6a1e1457b8bd6a53875276ac2",
            "value": " 440M/440M [00:00&lt;00:00, 555MB/s]"
          }
        },
        "72e2d9a124514bf598864db382e31618": {
          "model_module": "@jupyter-widgets/base",
          "model_name": "LayoutModel",
          "model_module_version": "1.2.0",
          "state": {
            "_model_module": "@jupyter-widgets/base",
            "_model_module_version": "1.2.0",
            "_model_name": "LayoutModel",
            "_view_count": null,
            "_view_module": "@jupyter-widgets/base",
            "_view_module_version": "1.2.0",
            "_view_name": "LayoutView",
            "align_content": null,
            "align_items": null,
            "align_self": null,
            "border": null,
            "bottom": null,
            "display": null,
            "flex": null,
            "flex_flow": null,
            "grid_area": null,
            "grid_auto_columns": null,
            "grid_auto_flow": null,
            "grid_auto_rows": null,
            "grid_column": null,
            "grid_gap": null,
            "grid_row": null,
            "grid_template_areas": null,
            "grid_template_columns": null,
            "grid_template_rows": null,
            "height": null,
            "justify_content": null,
            "justify_items": null,
            "left": null,
            "margin": null,
            "max_height": null,
            "max_width": null,
            "min_height": null,
            "min_width": null,
            "object_fit": null,
            "object_position": null,
            "order": null,
            "overflow": null,
            "overflow_x": null,
            "overflow_y": null,
            "padding": null,
            "right": null,
            "top": null,
            "visibility": null,
            "width": null
          }
        },
        "95a880001dff4a758b782711b7cfadca": {
          "model_module": "@jupyter-widgets/base",
          "model_name": "LayoutModel",
          "model_module_version": "1.2.0",
          "state": {
            "_model_module": "@jupyter-widgets/base",
            "_model_module_version": "1.2.0",
            "_model_name": "LayoutModel",
            "_view_count": null,
            "_view_module": "@jupyter-widgets/base",
            "_view_module_version": "1.2.0",
            "_view_name": "LayoutView",
            "align_content": null,
            "align_items": null,
            "align_self": null,
            "border": null,
            "bottom": null,
            "display": null,
            "flex": null,
            "flex_flow": null,
            "grid_area": null,
            "grid_auto_columns": null,
            "grid_auto_flow": null,
            "grid_auto_rows": null,
            "grid_column": null,
            "grid_gap": null,
            "grid_row": null,
            "grid_template_areas": null,
            "grid_template_columns": null,
            "grid_template_rows": null,
            "height": null,
            "justify_content": null,
            "justify_items": null,
            "left": null,
            "margin": null,
            "max_height": null,
            "max_width": null,
            "min_height": null,
            "min_width": null,
            "object_fit": null,
            "object_position": null,
            "order": null,
            "overflow": null,
            "overflow_x": null,
            "overflow_y": null,
            "padding": null,
            "right": null,
            "top": null,
            "visibility": null,
            "width": null
          }
        },
        "3b839505b062434588549908745a9967": {
          "model_module": "@jupyter-widgets/controls",
          "model_name": "DescriptionStyleModel",
          "model_module_version": "1.5.0",
          "state": {
            "_model_module": "@jupyter-widgets/controls",
            "_model_module_version": "1.5.0",
            "_model_name": "DescriptionStyleModel",
            "_view_count": null,
            "_view_module": "@jupyter-widgets/base",
            "_view_module_version": "1.2.0",
            "_view_name": "StyleView",
            "description_width": ""
          }
        },
        "a49cb0165e15400c9a34d00177aa7961": {
          "model_module": "@jupyter-widgets/base",
          "model_name": "LayoutModel",
          "model_module_version": "1.2.0",
          "state": {
            "_model_module": "@jupyter-widgets/base",
            "_model_module_version": "1.2.0",
            "_model_name": "LayoutModel",
            "_view_count": null,
            "_view_module": "@jupyter-widgets/base",
            "_view_module_version": "1.2.0",
            "_view_name": "LayoutView",
            "align_content": null,
            "align_items": null,
            "align_self": null,
            "border": null,
            "bottom": null,
            "display": null,
            "flex": null,
            "flex_flow": null,
            "grid_area": null,
            "grid_auto_columns": null,
            "grid_auto_flow": null,
            "grid_auto_rows": null,
            "grid_column": null,
            "grid_gap": null,
            "grid_row": null,
            "grid_template_areas": null,
            "grid_template_columns": null,
            "grid_template_rows": null,
            "height": null,
            "justify_content": null,
            "justify_items": null,
            "left": null,
            "margin": null,
            "max_height": null,
            "max_width": null,
            "min_height": null,
            "min_width": null,
            "object_fit": null,
            "object_position": null,
            "order": null,
            "overflow": null,
            "overflow_x": null,
            "overflow_y": null,
            "padding": null,
            "right": null,
            "top": null,
            "visibility": null,
            "width": null
          }
        },
        "a3af4e78eb354f438dc0a6c494b880a0": {
          "model_module": "@jupyter-widgets/controls",
          "model_name": "ProgressStyleModel",
          "model_module_version": "1.5.0",
          "state": {
            "_model_module": "@jupyter-widgets/controls",
            "_model_module_version": "1.5.0",
            "_model_name": "ProgressStyleModel",
            "_view_count": null,
            "_view_module": "@jupyter-widgets/base",
            "_view_module_version": "1.2.0",
            "_view_name": "StyleView",
            "bar_color": null,
            "description_width": ""
          }
        },
        "5cc4ce6f64504223979962c4de489a2c": {
          "model_module": "@jupyter-widgets/base",
          "model_name": "LayoutModel",
          "model_module_version": "1.2.0",
          "state": {
            "_model_module": "@jupyter-widgets/base",
            "_model_module_version": "1.2.0",
            "_model_name": "LayoutModel",
            "_view_count": null,
            "_view_module": "@jupyter-widgets/base",
            "_view_module_version": "1.2.0",
            "_view_name": "LayoutView",
            "align_content": null,
            "align_items": null,
            "align_self": null,
            "border": null,
            "bottom": null,
            "display": null,
            "flex": null,
            "flex_flow": null,
            "grid_area": null,
            "grid_auto_columns": null,
            "grid_auto_flow": null,
            "grid_auto_rows": null,
            "grid_column": null,
            "grid_gap": null,
            "grid_row": null,
            "grid_template_areas": null,
            "grid_template_columns": null,
            "grid_template_rows": null,
            "height": null,
            "justify_content": null,
            "justify_items": null,
            "left": null,
            "margin": null,
            "max_height": null,
            "max_width": null,
            "min_height": null,
            "min_width": null,
            "object_fit": null,
            "object_position": null,
            "order": null,
            "overflow": null,
            "overflow_x": null,
            "overflow_y": null,
            "padding": null,
            "right": null,
            "top": null,
            "visibility": null,
            "width": null
          }
        },
        "4e6779c6a1e1457b8bd6a53875276ac2": {
          "model_module": "@jupyter-widgets/controls",
          "model_name": "DescriptionStyleModel",
          "model_module_version": "1.5.0",
          "state": {
            "_model_module": "@jupyter-widgets/controls",
            "_model_module_version": "1.5.0",
            "_model_name": "DescriptionStyleModel",
            "_view_count": null,
            "_view_module": "@jupyter-widgets/base",
            "_view_module_version": "1.2.0",
            "_view_name": "StyleView",
            "description_width": ""
          }
        }
      }
    }
  },
  "cells": [
    {
      "cell_type": "markdown",
      "source": [
        "### Clone the DoDUO repository, fetch the data , install the packages"
      ],
      "metadata": {
        "id": "i1KlW6OMgukG"
      }
    },
    {
      "cell_type": "code",
      "execution_count": null,
      "metadata": {
        "id": "FAnA3_v4nkdl",
        "colab": {
          "base_uri": "https://localhost:8080/"
        },
        "outputId": "de35ed1c-47f1-4baa-a00a-aa0e4e684ae4"
      },
      "outputs": [
        {
          "output_type": "stream",
          "name": "stdout",
          "text": [
            "Cloning into 'doduo'...\n",
            "remote: Enumerating objects: 55, done.\u001b[K\n",
            "remote: Counting objects: 100% (55/55), done.\u001b[K\n",
            "remote: Compressing objects: 100% (45/45), done.\u001b[K\n",
            "remote: Total 55 (delta 18), reused 37 (delta 8), pack-reused 0\u001b[K\n",
            "Unpacking objects: 100% (55/55), 42.06 KiB | 2.80 MiB/s, done.\n"
          ]
        }
      ],
      "source": [
        "!git clone https://github.com/megagonlabs/doduo"
      ]
    },
    {
      "cell_type": "code",
      "source": [
        "%cd doduo"
      ],
      "metadata": {
        "id": "fP4SHv25NXMy",
        "colab": {
          "base_uri": "https://localhost:8080/"
        },
        "outputId": "edc5a554-2e92-4dfc-840f-bee35cfbd0cb"
      },
      "execution_count": null,
      "outputs": [
        {
          "output_type": "stream",
          "name": "stdout",
          "text": [
            "/content/doduo\n"
          ]
        }
      ]
    },
    {
      "cell_type": "code",
      "source": [
        "!bash download.sh "
      ],
      "metadata": {
        "id": "l9gw3RQenlYH",
        "colab": {
          "base_uri": "https://localhost:8080/"
        },
        "outputId": "6c349b35-fe37-4f35-aa9f-a4f9669a3c2d"
      },
      "execution_count": null,
      "outputs": [
        {
          "output_type": "stream",
          "name": "stdout",
          "text": [
            "--2023-05-24 17:45:48--  https://doduo-data.s3-us-west-2.amazonaws.com/data.tar.gz\n",
            "Resolving doduo-data.s3-us-west-2.amazonaws.com (doduo-data.s3-us-west-2.amazonaws.com)... 52.92.226.178, 3.5.81.171, 52.218.245.153, ...\n",
            "Connecting to doduo-data.s3-us-west-2.amazonaws.com (doduo-data.s3-us-west-2.amazonaws.com)|52.92.226.178|:443... connected.\n",
            "HTTP request sent, awaiting response... 200 OK\n",
            "Length: 106987437 (102M) [application/x-gzip]\n",
            "Saving to: ‘data.tar.gz’\n",
            "\n",
            "data.tar.gz         100%[===================>] 102.03M  17.5MB/s    in 6.9s    \n",
            "\n",
            "2023-05-24 17:45:56 (14.7 MB/s) - ‘data.tar.gz’ saved [106987437/106987437]\n",
            "\n",
            "./._data\n",
            "./data/\n",
            "./data/._msato_cv_4.csv\n",
            "./data/msato_cv_4.csv\n",
            "./data/._msato_cv_2.csv\n",
            "./data/msato_cv_2.csv\n",
            "./data/._msato_cv_3.csv\n",
            "./data/msato_cv_3.csv\n",
            "./data/._msato_cv_1.csv\n",
            "./data/msato_cv_1.csv\n",
            "./data/._msato_cv_0.csv\n",
            "./data/msato_cv_0.csv\n",
            "./data/._table_col_type_serialized.pkl\n",
            "./data/table_col_type_serialized.pkl\n",
            "./data/._sato_cv_3.csv\n",
            "./data/sato_cv_3.csv\n",
            "./data/._sato_cv_2.csv\n",
            "./data/sato_cv_2.csv\n",
            "./data/._sato_cv_0.csv\n",
            "./data/sato_cv_0.csv\n",
            "./data/._sato_cv_1.csv\n",
            "./data/sato_cv_1.csv\n",
            "./data/._sato_cv_4.csv\n",
            "./data/sato_cv_4.csv\n",
            "./data/turl_coltype_mlb.pickle\n",
            "./data/._table_rel_extraction_serialized.pkl\n",
            "./data/table_rel_extraction_serialized.pkl\n",
            "./data/turl_colrel_mlb.pickle\n",
            "--2023-05-24 17:46:00--  https://doduo-data.s3-us-west-2.amazonaws.com/model.tar.gz\n",
            "Resolving doduo-data.s3-us-west-2.amazonaws.com (doduo-data.s3-us-west-2.amazonaws.com)... 52.92.251.194, 52.92.178.226, 52.92.178.18, ...\n",
            "Connecting to doduo-data.s3-us-west-2.amazonaws.com (doduo-data.s3-us-west-2.amazonaws.com)|52.92.251.194|:443... connected.\n",
            "HTTP request sent, awaiting response... 200 OK\n",
            "Length: 1218601098 (1.1G) [application/x-gzip]\n",
            "Saving to: ‘model.tar.gz’\n",
            "\n",
            "model.tar.gz        100%[===================>]   1.13G  16.9MB/s    in 74s     \n",
            "\n",
            "2023-05-24 17:47:14 (15.8 MB/s) - ‘model.tar.gz’ saved [1218601098/1218601098]\n",
            "\n",
            "model/\n",
            "model/sato0_mosato_bert_bert-base-uncased-bs16-ml-32__sato0-1.00_best_micro_f1.pt\n",
            "model/turlturl-re-colpair_mosato_bert_bert-base-uncased-bs16-ml-16__turl-1.00_turl-re-1.00=turl-re_best_micro_f1.pt\n",
            "model/turlturl-re-colpair_mosato_bert_bert-base-uncased-bs16-ml-16__turl-1.00_turl-re-1.00=turl_best_micro_f1.pt\n"
          ]
        }
      ]
    },
    {
      "cell_type": "code",
      "source": [
        "!pip install numpy -q\n",
        "!pip install pandas -q\n",
        "!pip install scikit-learn -q\n",
        "!pip install scipy -q\n",
        "!pip install torch -q\n",
        "!pip install transformers -q"
      ],
      "metadata": {
        "colab": {
          "base_uri": "https://localhost:8080/"
        },
        "id": "vBswTBJax2pp",
        "outputId": "6fd325b0-2ecf-46d7-babb-16483054f3c6"
      },
      "execution_count": null,
      "outputs": [
        {
          "output_type": "stream",
          "name": "stdout",
          "text": [
            "\u001b[2K     \u001b[90m━━━━━━━━━━━━━━━━━━━━━━━━━━━━━━━━━━━━━━━━\u001b[0m \u001b[32m7.1/7.1 MB\u001b[0m \u001b[31m101.0 MB/s\u001b[0m eta \u001b[36m0:00:00\u001b[0m\n",
            "\u001b[2K     \u001b[90m━━━━━━━━━━━━━━━━━━━━━━━━━━━━━━━━━━━━━━\u001b[0m \u001b[32m224.5/224.5 kB\u001b[0m \u001b[31m29.8 MB/s\u001b[0m eta \u001b[36m0:00:00\u001b[0m\n",
            "\u001b[2K     \u001b[90m━━━━━━━━━━━━━━━━━━━━━━━━━━━━━━━━━━━━━━━━\u001b[0m \u001b[32m7.8/7.8 MB\u001b[0m \u001b[31m121.4 MB/s\u001b[0m eta \u001b[36m0:00:00\u001b[0m\n",
            "\u001b[?25h"
          ]
        }
      ]
    },
    {
      "cell_type": "markdown",
      "source": [
        "### Masked Column Prediction"
      ],
      "metadata": {
        "id": "PwLLcOWd2JGY"
      }
    },
    {
      "cell_type": "code",
      "source": [
        "from transformers import BertTokenizer, BertForMaskedLM\n",
        "import torch\n",
        "from transformers import Trainer, TrainingArguments\n",
        "from transformers import AutoTokenizer\n",
        "from transformers import BertTokenizer\n",
        "from transformers import DataCollatorForLanguageModeling\n",
        "from torch.utils.data.dataset import Dataset\n",
        "import random\n",
        "from transformers import AdamW\n",
        "from tqdm import tqdm  # for our progress bar\n",
        "import pickle\n",
        "import math\n",
        "import matplotlib.pyplot as plt\n",
        "import numpy as np\n"
      ],
      "metadata": {
        "id": "aAftyBEg0ZEJ"
      },
      "execution_count": null,
      "outputs": []
    },
    {
      "cell_type": "code",
      "source": [
        "tokenizer = AutoTokenizer.from_pretrained('bert-base-uncased')\n",
        "model = BertForMaskedLM.from_pretrained('bert-base-uncased')"
      ],
      "metadata": {
        "colab": {
          "base_uri": "https://localhost:8080/",
          "height": 229,
          "referenced_widgets": [
            "3290d9a630a24aa081866e13d1b760fe",
            "b63c9939b7cc443cae941af35a25f152",
            "5f66f54111cb4aa5b22b3eccb03907ef",
            "0c60606bcde847f5a0fe68d93f1fe890",
            "3fd98dfb9ab141e18441103b202e7084",
            "0799bdf7ab7c486cae50419efdefbc8c",
            "b204d3b0a14d4f28997d0eb7fd5e9b27",
            "464e0c3c5b6a477ba8e17987363000f2",
            "5a338f415848442181597401230be06e",
            "447d995f3ca2444da951d46666c688a3",
            "7dcf6149a02a4a9685fcae178f459d74",
            "20864e5d6c9c45c192ee3df80ffe3752",
            "ef2c2e294b194e44868340c7fd9729a0",
            "00d3ce8a1fd646a8874f2b145ccdcf08",
            "001cb94ece7d4770ba133f209a4e4ead",
            "d12c4630d10445b58cdc058ea14c0197",
            "32d83736c39244028f4e3a199674a71b",
            "055a6930dbe04c52b2bf674489bf91ce",
            "babdc33e3b6a4251b3a828e302e403f2",
            "9edcb012fd514aaebd8c1f1bf292a696",
            "25c5cf4364a143afbe613e77a122d911",
            "7c4e126847684ffebb43cf3b701c05fa",
            "9859e349444c4d259e878d1b9dd7e69d",
            "54acf1a8592c41b5b53bb719001f044b",
            "55be0f9219e845398cdd7486eb3c0a31",
            "8e6cfb1cb6f0464aadd124a9a2e15d5a",
            "87c932e0923240e19f3719e2a6e41c3a",
            "8135bbbcc9914329ab245a4aeed61d82",
            "7f3008d833e143d39e08ffcab8f486b5",
            "72d08831c2fc478c8be07ad4caa6670c",
            "ff4a8b022dff43a2baa304cef5c3de34",
            "d9f14623edd34d788b7bb2346dc3010b",
            "3baac79386904a0ca01b3114debd7a1b",
            "6124cb195c0d49c89c1c7c6be8111dd9",
            "7dbb8d94abd3408dad275768bc949acf",
            "2b67f7cc77894c8db0f028489580efe3",
            "559b5e0d764f45e7aaa58b10c38ef495",
            "183d87435cb04a3db7925d53de656887",
            "075c2b88ac424fc1b82d8c68bd026a06",
            "995e2971d7b1460ab433870aac5facc8",
            "c2425818e619459bba42d90ea52b0a56",
            "d1cd7b6f48324fa687c3c3e40d62fabf",
            "fa642f46eede4f15921c741011d1d95d",
            "9fd1806f5bd44e8c96c55388c1f73c65",
            "9411628accea43f8b2122416da2bd438",
            "41fe349fc6a1472880a2a4e40196897e",
            "fa2ea6837e244f9681353b1dc2d95382",
            "743a55a8f7524321bd87b0a35705b63e",
            "72e2d9a124514bf598864db382e31618",
            "95a880001dff4a758b782711b7cfadca",
            "3b839505b062434588549908745a9967",
            "a49cb0165e15400c9a34d00177aa7961",
            "a3af4e78eb354f438dc0a6c494b880a0",
            "5cc4ce6f64504223979962c4de489a2c",
            "4e6779c6a1e1457b8bd6a53875276ac2"
          ]
        },
        "id": "8ho4ZU-zMBfx",
        "outputId": "f64d8ccd-9021-491e-d968-5fa906143209"
      },
      "execution_count": null,
      "outputs": [
        {
          "output_type": "display_data",
          "data": {
            "text/plain": [
              "Downloading (…)okenizer_config.json:   0%|          | 0.00/28.0 [00:00<?, ?B/s]"
            ],
            "application/vnd.jupyter.widget-view+json": {
              "version_major": 2,
              "version_minor": 0,
              "model_id": "3290d9a630a24aa081866e13d1b760fe"
            }
          },
          "metadata": {}
        },
        {
          "output_type": "display_data",
          "data": {
            "text/plain": [
              "Downloading (…)lve/main/config.json:   0%|          | 0.00/570 [00:00<?, ?B/s]"
            ],
            "application/vnd.jupyter.widget-view+json": {
              "version_major": 2,
              "version_minor": 0,
              "model_id": "20864e5d6c9c45c192ee3df80ffe3752"
            }
          },
          "metadata": {}
        },
        {
          "output_type": "display_data",
          "data": {
            "text/plain": [
              "Downloading (…)solve/main/vocab.txt:   0%|          | 0.00/232k [00:00<?, ?B/s]"
            ],
            "application/vnd.jupyter.widget-view+json": {
              "version_major": 2,
              "version_minor": 0,
              "model_id": "9859e349444c4d259e878d1b9dd7e69d"
            }
          },
          "metadata": {}
        },
        {
          "output_type": "display_data",
          "data": {
            "text/plain": [
              "Downloading (…)/main/tokenizer.json:   0%|          | 0.00/466k [00:00<?, ?B/s]"
            ],
            "application/vnd.jupyter.widget-view+json": {
              "version_major": 2,
              "version_minor": 0,
              "model_id": "6124cb195c0d49c89c1c7c6be8111dd9"
            }
          },
          "metadata": {}
        },
        {
          "output_type": "display_data",
          "data": {
            "text/plain": [
              "Downloading pytorch_model.bin:   0%|          | 0.00/440M [00:00<?, ?B/s]"
            ],
            "application/vnd.jupyter.widget-view+json": {
              "version_major": 2,
              "version_minor": 0,
              "model_id": "9411628accea43f8b2122416da2bd438"
            }
          },
          "metadata": {}
        },
        {
          "output_type": "stream",
          "name": "stderr",
          "text": [
            "Some weights of the model checkpoint at bert-base-uncased were not used when initializing BertForMaskedLM: ['cls.seq_relationship.weight', 'cls.seq_relationship.bias']\n",
            "- This IS expected if you are initializing BertForMaskedLM from the checkpoint of a model trained on another task or with another architecture (e.g. initializing a BertForSequenceClassification model from a BertForPreTraining model).\n",
            "- This IS NOT expected if you are initializing BertForMaskedLM from the checkpoint of a model that you expect to be exactly identical (initializing a BertForSequenceClassification model from a BertForSequenceClassification model).\n"
          ]
        }
      ]
    },
    {
      "cell_type": "markdown",
      "source": [
        "##### Custom Functions"
      ],
      "metadata": {
        "id": "SiFcmux3SyEl"
      }
    },
    {
      "cell_type": "code",
      "source": [
        "def modify_df_list(df):\n",
        "  '''\n",
        "  return list with grouped values with respect to a df\n",
        "  '''\n",
        "  row_list = []\n",
        "  new_row_list = []\n",
        "  for (index, group_df) in df.groupby('table_id'):\n",
        "\n",
        "      row_list.append(group_df.data.values.tolist() )\n",
        "\n",
        "  for r in row_list:\n",
        "    new_row_list.append(' | '.join(r))\n",
        "  return new_row_list\n",
        "\n",
        "def calculate_perplexity(avg_train_loss,avg_val_loss):\n",
        "  '''\n",
        "  calculate perplexity with respect to loss\n",
        "  '''\n",
        "  train_perplexity_list= []\n",
        "  val_perplexity_list = []\n",
        "  for i,t in enumerate(avg_train_loss):\n",
        "    train_perplexity_list.append(math.exp(avg_train_loss[i]))\n",
        "    val_perplexity_list.append(math.exp(avg_val_loss[i]))\n",
        "  return train_perplexity_list , val_perplexity_list\n",
        "  "
      ],
      "metadata": {
        "id": "CI-onOYuMG2Z"
      },
      "execution_count": null,
      "outputs": []
    },
    {
      "cell_type": "code",
      "source": [
        "# loading the data\n",
        "with open('/content/doduo/data/table_col_type_serialized.pkl', 'rb') as f:\n",
        "    all_data = pickle.load(f)"
      ],
      "metadata": {
        "colab": {
          "base_uri": "https://localhost:8080/"
        },
        "id": "1eE7L8Ad0ZBo",
        "outputId": "186d0fea-bf37-4dde-b6ea-a6000d869b3b"
      },
      "execution_count": null,
      "outputs": [
        {
          "output_type": "stream",
          "name": "stderr",
          "text": [
            "/usr/local/lib/python3.10/dist-packages/sklearn/base.py:318: UserWarning: Trying to unpickle estimator MultiLabelBinarizer from version 0.22.1 when using version 1.2.2. This might lead to breaking code or invalid results. Use at your own risk. For more info please refer to:\n",
            "https://scikit-learn.org/stable/model_persistence.html#security-maintainability-limitations\n",
            "  warnings.warn(\n"
          ]
        }
      ]
    },
    {
      "cell_type": "code",
      "source": [
        "# Defining the threshold of training data\n",
        "threshold = 250000\n",
        "\n",
        "train_df = all_data.get('train').head(threshold)\n",
        "val_df = all_data.get('dev')\n",
        "\n",
        "train_df_list = modify_df_list(train_df)\n",
        "val_df_list = modify_df_list(val_df)"
      ],
      "metadata": {
        "id": "HUy3Ly5E8b37"
      },
      "execution_count": null,
      "outputs": []
    },
    {
      "cell_type": "code",
      "source": [
        "class Custom_MCP_Dataset(Dataset):\n",
        "    def __init__(self,examples):\n",
        "        self.examples = examples\n",
        "        self.selections = random.sample(range(0,len(examples)), int(0.2*len(examples)) )\n",
        "        \n",
        "    def __len__(self):\n",
        "        return len(self.examples)\n",
        "\n",
        "    def __getitem__(self, i):\n",
        "        res = tokenizer(self.examples[i], return_tensors='pt', max_length=150, truncation=True, padding='max_length')\n",
        "        res.input_ids = torch.where(res.input_ids == 1064, 102, res.input_ids)\n",
        "        res['labels'] = res.input_ids.detach().clone()\n",
        "        if i in self.selections:\n",
        "          # find the positions of the [SEP] tokens\n",
        "          sep_positions = torch.where(res.input_ids == tokenizer.sep_token_id)[1]\n",
        "          # create a new tensor of the same shape as the input tensor\n",
        "          masked_tensor = res.input_ids.clone()\n",
        "          # replace the values between the [SEP] tokens with the MASK token\n",
        "          for i in range(sep_positions.shape[0]-1):\n",
        "              start_idx = sep_positions[i] + 1\n",
        "              end_idx = sep_positions[i+1]\n",
        "              masked_tensor[0, start_idx:end_idx] = tokenizer.mask_token_id\n",
        "              res.input_ids = masked_tensor\n",
        "\n",
        "        else:\n",
        "          pass\n",
        "\n",
        "        res.input_ids = res.input_ids.squeeze()\n",
        "        res.labels = res.labels.squeeze()\n",
        "        res.token_type_ids = res.token_type_ids.squeeze()\n",
        "        res.attention_mask = res.attention_mask.squeeze()\n",
        "\n",
        "        return {\n",
        "        'input_ids':res.input_ids.squeeze(),  \n",
        "        'token_type_ids':res.token_type_ids.squeeze(),  \n",
        "        'attention_mask':res.attention_mask.squeeze(),  \n",
        "        'labels':res.labels.squeeze(),  \n",
        "\n",
        "        }"
      ],
      "metadata": {
        "id": "NjTFh19000l6"
      },
      "execution_count": null,
      "outputs": []
    },
    {
      "cell_type": "markdown",
      "source": [
        "##### Example Dataset"
      ],
      "metadata": {
        "id": "wOPKUeoaNPvI"
      }
    },
    {
      "cell_type": "code",
      "source": [
        "train_df[train_df.table_id.str.contains('10535445-4')]"
      ],
      "metadata": {
        "colab": {
          "base_uri": "https://localhost:8080/",
          "height": 112
        },
        "id": "77neU85AUGsu",
        "outputId": "3215b715-1be4-44bf-b193-b6ceca228041"
      },
      "execution_count": null,
      "outputs": [
        {
          "output_type": "execute_result",
          "data": {
            "text/plain": [
              "          table_id                                             labels  \\\n",
              "248689  10535445-4     [film.actor, tv.tv_personality, people.person]   \n",
              "248690  10535445-4  [tv.tv_actor, film.actor, tv.tv_personality, p...   \n",
              "\n",
              "                                                     data  \\\n",
              "248689  Stacy Keibler Giselle Fernandez Tatum O'Neal S...   \n",
              "248690  Master P Lisa Rinna Tatum O'Neal Master P Mast...   \n",
              "\n",
              "                                                label_ids  \n",
              "248689  [0, 0, 0, 0, 0, 0, 0, 0, 0, 0, 0, 0, 0, 0, 0, ...  \n",
              "248690  [0, 0, 0, 0, 0, 0, 0, 0, 0, 0, 0, 0, 0, 0, 0, ...  "
            ],
            "text/html": [
              "\n",
              "  <div id=\"df-dd9c4433-5f13-49d4-9f71-ba3eb231f536\">\n",
              "    <div class=\"colab-df-container\">\n",
              "      <div>\n",
              "<style scoped>\n",
              "    .dataframe tbody tr th:only-of-type {\n",
              "        vertical-align: middle;\n",
              "    }\n",
              "\n",
              "    .dataframe tbody tr th {\n",
              "        vertical-align: top;\n",
              "    }\n",
              "\n",
              "    .dataframe thead th {\n",
              "        text-align: right;\n",
              "    }\n",
              "</style>\n",
              "<table border=\"1\" class=\"dataframe\">\n",
              "  <thead>\n",
              "    <tr style=\"text-align: right;\">\n",
              "      <th></th>\n",
              "      <th>table_id</th>\n",
              "      <th>labels</th>\n",
              "      <th>data</th>\n",
              "      <th>label_ids</th>\n",
              "    </tr>\n",
              "  </thead>\n",
              "  <tbody>\n",
              "    <tr>\n",
              "      <th>248689</th>\n",
              "      <td>10535445-4</td>\n",
              "      <td>[film.actor, tv.tv_personality, people.person]</td>\n",
              "      <td>Stacy Keibler Giselle Fernandez Tatum O'Neal S...</td>\n",
              "      <td>[0, 0, 0, 0, 0, 0, 0, 0, 0, 0, 0, 0, 0, 0, 0, ...</td>\n",
              "    </tr>\n",
              "    <tr>\n",
              "      <th>248690</th>\n",
              "      <td>10535445-4</td>\n",
              "      <td>[tv.tv_actor, film.actor, tv.tv_personality, p...</td>\n",
              "      <td>Master P Lisa Rinna Tatum O'Neal Master P Mast...</td>\n",
              "      <td>[0, 0, 0, 0, 0, 0, 0, 0, 0, 0, 0, 0, 0, 0, 0, ...</td>\n",
              "    </tr>\n",
              "  </tbody>\n",
              "</table>\n",
              "</div>\n",
              "      <button class=\"colab-df-convert\" onclick=\"convertToInteractive('df-dd9c4433-5f13-49d4-9f71-ba3eb231f536')\"\n",
              "              title=\"Convert this dataframe to an interactive table.\"\n",
              "              style=\"display:none;\">\n",
              "        \n",
              "  <svg xmlns=\"http://www.w3.org/2000/svg\" height=\"24px\"viewBox=\"0 0 24 24\"\n",
              "       width=\"24px\">\n",
              "    <path d=\"M0 0h24v24H0V0z\" fill=\"none\"/>\n",
              "    <path d=\"M18.56 5.44l.94 2.06.94-2.06 2.06-.94-2.06-.94-.94-2.06-.94 2.06-2.06.94zm-11 1L8.5 8.5l.94-2.06 2.06-.94-2.06-.94L8.5 2.5l-.94 2.06-2.06.94zm10 10l.94 2.06.94-2.06 2.06-.94-2.06-.94-.94-2.06-.94 2.06-2.06.94z\"/><path d=\"M17.41 7.96l-1.37-1.37c-.4-.4-.92-.59-1.43-.59-.52 0-1.04.2-1.43.59L10.3 9.45l-7.72 7.72c-.78.78-.78 2.05 0 2.83L4 21.41c.39.39.9.59 1.41.59.51 0 1.02-.2 1.41-.59l7.78-7.78 2.81-2.81c.8-.78.8-2.07 0-2.86zM5.41 20L4 18.59l7.72-7.72 1.47 1.35L5.41 20z\"/>\n",
              "  </svg>\n",
              "      </button>\n",
              "      \n",
              "  <style>\n",
              "    .colab-df-container {\n",
              "      display:flex;\n",
              "      flex-wrap:wrap;\n",
              "      gap: 12px;\n",
              "    }\n",
              "\n",
              "    .colab-df-convert {\n",
              "      background-color: #E8F0FE;\n",
              "      border: none;\n",
              "      border-radius: 50%;\n",
              "      cursor: pointer;\n",
              "      display: none;\n",
              "      fill: #1967D2;\n",
              "      height: 32px;\n",
              "      padding: 0 0 0 0;\n",
              "      width: 32px;\n",
              "    }\n",
              "\n",
              "    .colab-df-convert:hover {\n",
              "      background-color: #E2EBFA;\n",
              "      box-shadow: 0px 1px 2px rgba(60, 64, 67, 0.3), 0px 1px 3px 1px rgba(60, 64, 67, 0.15);\n",
              "      fill: #174EA6;\n",
              "    }\n",
              "\n",
              "    [theme=dark] .colab-df-convert {\n",
              "      background-color: #3B4455;\n",
              "      fill: #D2E3FC;\n",
              "    }\n",
              "\n",
              "    [theme=dark] .colab-df-convert:hover {\n",
              "      background-color: #434B5C;\n",
              "      box-shadow: 0px 1px 3px 1px rgba(0, 0, 0, 0.15);\n",
              "      filter: drop-shadow(0px 1px 2px rgba(0, 0, 0, 0.3));\n",
              "      fill: #FFFFFF;\n",
              "    }\n",
              "  </style>\n",
              "\n",
              "      <script>\n",
              "        const buttonEl =\n",
              "          document.querySelector('#df-dd9c4433-5f13-49d4-9f71-ba3eb231f536 button.colab-df-convert');\n",
              "        buttonEl.style.display =\n",
              "          google.colab.kernel.accessAllowed ? 'block' : 'none';\n",
              "\n",
              "        async function convertToInteractive(key) {\n",
              "          const element = document.querySelector('#df-dd9c4433-5f13-49d4-9f71-ba3eb231f536');\n",
              "          const dataTable =\n",
              "            await google.colab.kernel.invokeFunction('convertToInteractive',\n",
              "                                                     [key], {});\n",
              "          if (!dataTable) return;\n",
              "\n",
              "          const docLinkHtml = 'Like what you see? Visit the ' +\n",
              "            '<a target=\"_blank\" href=https://colab.research.google.com/notebooks/data_table.ipynb>data table notebook</a>'\n",
              "            + ' to learn more about interactive tables.';\n",
              "          element.innerHTML = '';\n",
              "          dataTable['output_type'] = 'display_data';\n",
              "          await google.colab.output.renderOutput(dataTable, element);\n",
              "          const docLink = document.createElement('div');\n",
              "          docLink.innerHTML = docLinkHtml;\n",
              "          element.appendChild(docLink);\n",
              "        }\n",
              "      </script>\n",
              "    </div>\n",
              "  </div>\n",
              "  "
            ]
          },
          "metadata": {},
          "execution_count": 25
        }
      ]
    },
    {
      "cell_type": "code",
      "source": [
        "example_MSP_dataset = Custom_MCP_Dataset(train_df_list[:10000])\n",
        "example_MSP_loader = torch.utils.data.DataLoader(example_MSP_dataset, batch_size=64, shuffle=True)\n"
      ],
      "metadata": {
        "id": "XBdeIOFM00jU"
      },
      "execution_count": null,
      "outputs": []
    },
    {
      "cell_type": "code",
      "source": [
        "tokenizer.decode(example_MSP_dataset[7547].get('input_ids'))"
      ],
      "metadata": {
        "colab": {
          "base_uri": "https://localhost:8080/",
          "height": 87
        },
        "id": "xb-jH-jvKzRh",
        "outputId": "a5a28afa-af79-4e8e-8270-179bbd1d9790"
      },
      "execution_count": null,
      "outputs": [
        {
          "output_type": "execute_result",
          "data": {
            "text/plain": [
              "'[CLS] rene clement william beaudine r. g. springsteen daniel mann william castle george axelrod mark robson david lowell rich boris sagal joseph barbera, william hanna ronald neame delbert mann earl bellamy henry levin cornel wilde henry hathaway norman panama russell rouse daniel mann don sharp michael d. moore arthur hiller bert i. gordon david lowell rich terence young richard brooks curtis harrington andrew v. mclaglen coleman francis burt kennedy bernard mceveety john waters emile de antonio norman jewison [SEP] [MASK] [MASK] [MASK] [MASK] [MASK] [MASK] [MASK] [MASK] [MASK] [MASK] [MASK] [MASK] [MASK] [MASK] [MASK] [MASK] [MASK] [MASK] [MASK] [MASK] [MASK] [MASK] [MASK] [MASK] [MASK] [MASK] [MASK] [MASK] [MASK] [MASK] [MASK] [MASK] [MASK] [MASK] [MASK] [MASK] [MASK] [MASK] [MASK] [MASK] [MASK] [MASK] [MASK] [MASK] [MASK] [MASK] [MASK] [MASK] [MASK] [SEP]'"
            ],
            "application/vnd.google.colaboratory.intrinsic+json": {
              "type": "string"
            }
          },
          "metadata": {},
          "execution_count": 20
        }
      ]
    },
    {
      "cell_type": "code",
      "source": [
        "tokenizer.decode(example_MSP_dataset[7547].get('labels'))"
      ],
      "metadata": {
        "colab": {
          "base_uri": "https://localhost:8080/",
          "height": 87
        },
        "id": "mAWsriLxKy9y",
        "outputId": "da5e04ac-b55d-4974-aa92-2efbd0005171"
      },
      "execution_count": null,
      "outputs": [
        {
          "output_type": "execute_result",
          "data": {
            "text/plain": [
              "'[CLS] rene clement william beaudine r. g. springsteen daniel mann william castle george axelrod mark robson david lowell rich boris sagal joseph barbera, william hanna ronald neame delbert mann earl bellamy henry levin cornel wilde henry hathaway norman panama russell rouse daniel mann don sharp michael d. moore arthur hiller bert i. gordon david lowell rich terence young richard brooks curtis harrington andrew v. mclaglen coleman francis burt kennedy bernard mceveety john waters emile de antonio norman jewison [SEP] kirk douglas, charles boyer, leslie caron, glenn ford, yves montand, alain delon, jean - paul belmondo simone signoret john lupton, narda onyx dana andrews, jane russell sophia loren, peter finch [SEP]'"
            ],
            "application/vnd.google.colaboratory.intrinsic+json": {
              "type": "string"
            }
          },
          "metadata": {},
          "execution_count": 21
        }
      ]
    },
    {
      "cell_type": "code",
      "source": [
        "tokenizer.decode(example_MSP_dataset[2350].get('input_ids'))"
      ],
      "metadata": {
        "colab": {
          "base_uri": "https://localhost:8080/",
          "height": 87
        },
        "id": "DgjeFUn_CCH9",
        "outputId": "39bd304b-df1f-46d9-9ab7-49d55d50d3f7"
      },
      "execution_count": null,
      "outputs": [
        {
          "output_type": "execute_result",
          "data": {
            "text/plain": [
              "\"[CLS] stacy keibler giselle fernandez tatum o'neal stacy keibler drew lachey drew lachey lisa rinna stacy keibler stacy keibler drew lachey stacy keibler drew lachey stacy keibler lisa rinna drew lachey jerry rice drew lachey [SEP] [MASK] [MASK] [MASK] [MASK] [MASK] [MASK] [MASK] [MASK] [MASK] [MASK] [MASK] [MASK] [MASK] [MASK] [MASK] [MASK] [MASK] [MASK] [MASK] [MASK] [MASK] [MASK] [MASK] [MASK] [MASK] [SEP] [PAD] [PAD] [PAD] [PAD] [PAD] [PAD] [PAD] [PAD] [PAD] [PAD] [PAD] [PAD] [PAD] [PAD] [PAD] [PAD] [PAD] [PAD] [PAD] [PAD] [PAD] [PAD] [PAD] [PAD] [PAD] [PAD] [PAD] [PAD] [PAD] [PAD] [PAD] [PAD] [PAD] [PAD] [PAD] [PAD] [PAD] [PAD] [PAD] [PAD] [PAD] [PAD] [PAD] [PAD] [PAD] [PAD] [PAD] [PAD] [PAD] [PAD] [PAD] [PAD] [PAD] [PAD] [PAD] [PAD] [PAD] [PAD] [PAD] [PAD] [PAD] [PAD] [PAD] [PAD] [PAD] [PAD] [PAD] [PAD] [PAD] [PAD] [PAD]\""
            ],
            "application/vnd.google.colaboratory.intrinsic+json": {
              "type": "string"
            }
          },
          "metadata": {},
          "execution_count": 22
        }
      ]
    },
    {
      "cell_type": "code",
      "source": [
        "tokenizer.decode(example_MSP_dataset[2350].get('labels'))"
      ],
      "metadata": {
        "colab": {
          "base_uri": "https://localhost:8080/",
          "height": 87
        },
        "id": "6m4rqVhqFfwJ",
        "outputId": "2b7f8b92-b102-4243-8198-f63e484d923a"
      },
      "execution_count": null,
      "outputs": [
        {
          "output_type": "execute_result",
          "data": {
            "text/plain": [
              "\"[CLS] stacy keibler giselle fernandez tatum o'neal stacy keibler drew lachey drew lachey lisa rinna stacy keibler stacy keibler drew lachey stacy keibler drew lachey stacy keibler lisa rinna drew lachey jerry rice drew lachey [SEP] master p lisa rinna tatum o'neal master p master p jerry rice tia carrere master p jerry rice stacy keibler [SEP] [PAD] [PAD] [PAD] [PAD] [PAD] [PAD] [PAD] [PAD] [PAD] [PAD] [PAD] [PAD] [PAD] [PAD] [PAD] [PAD] [PAD] [PAD] [PAD] [PAD] [PAD] [PAD] [PAD] [PAD] [PAD] [PAD] [PAD] [PAD] [PAD] [PAD] [PAD] [PAD] [PAD] [PAD] [PAD] [PAD] [PAD] [PAD] [PAD] [PAD] [PAD] [PAD] [PAD] [PAD] [PAD] [PAD] [PAD] [PAD] [PAD] [PAD] [PAD] [PAD] [PAD] [PAD] [PAD] [PAD] [PAD] [PAD] [PAD] [PAD] [PAD] [PAD] [PAD] [PAD] [PAD] [PAD] [PAD] [PAD] [PAD] [PAD] [PAD]\""
            ],
            "application/vnd.google.colaboratory.intrinsic+json": {
              "type": "string"
            }
          },
          "metadata": {},
          "execution_count": 23
        }
      ]
    },
    {
      "cell_type": "markdown",
      "source": [
        "#### Training via MCP"
      ],
      "metadata": {
        "id": "rpwJWaMXL_mE"
      }
    },
    {
      "cell_type": "code",
      "source": [
        "device = torch.device('cuda') if torch.cuda.is_available() else torch.device('cpu')\n",
        "model.to(device)\n",
        "\n",
        "optim = AdamW(model.parameters(), lr=5e-5)"
      ],
      "metadata": {
        "colab": {
          "base_uri": "https://localhost:8080/"
        },
        "id": "GjgUe56200gX",
        "outputId": "165aaff0-4d67-40d9-f6b6-9ab563ebbb65"
      },
      "execution_count": null,
      "outputs": [
        {
          "output_type": "stream",
          "name": "stderr",
          "text": [
            "/usr/local/lib/python3.10/dist-packages/transformers/optimization.py:407: FutureWarning: This implementation of AdamW is deprecated and will be removed in a future version. Use the PyTorch implementation torch.optim.AdamW instead, or set `no_deprecation_warning=True` to disable this warning\n",
            "  warnings.warn(\n"
          ]
        }
      ]
    },
    {
      "cell_type": "code",
      "source": [
        "val_MCP_dataset = Custom_MCP_Dataset(val_df_list)\n",
        "val_MCP_loader = torch.utils.data.DataLoader(val_MCP_dataset, batch_size=64, shuffle=True)"
      ],
      "metadata": {
        "id": "gWNNXeIAQRtz"
      },
      "execution_count": null,
      "outputs": []
    },
    {
      "cell_type": "code",
      "source": [
        "epochs = 6\n",
        "avg_train_loss = []\n",
        "avg_val_loss = []\n",
        "\n",
        "for epoch in range(epochs):\n",
        "    train_loss = 0\n",
        "    val_loss = 0\n",
        "\n",
        "    train_MCP_dataset = Custom_MCP_Dataset(train_df_list)\n",
        "    train_MCP_loader = torch.utils.data.DataLoader(train_MCP_dataset, batch_size=64, shuffle=True)\n",
        "\n",
        "    loop = tqdm(train_MCP_loader,total=len(train_MCP_loader), desc='Epoch [{}/{}]'.format(epoch, epochs - 1))\n",
        "    for batch in loop:\n",
        "        model.train()\n",
        "        # initialize calculated gradients (from prev step)\n",
        "        optim.zero_grad()\n",
        "        # pull all tensor batches required for training\n",
        "        input_ids = batch['input_ids'].to(device)\n",
        "        attention_mask = batch['attention_mask'].to(device)\n",
        "        labels = batch['labels'].to(device)\n",
        "        # process\n",
        "        outputs = model(input_ids, \n",
        "                        attention_mask=attention_mask,\n",
        "                        labels=labels)\n",
        "        # extract loss\n",
        "        loss = outputs.loss\n",
        "        # calculate loss for every parameter that needs grad update\n",
        "        loss.backward()\n",
        "        # update parameters\n",
        "        optim.step()\n",
        "\n",
        "        train_loss = train_loss + loss.item()\n",
        "        loop.set_postfix(loss=loss.item())\n",
        "\n",
        "    val_loop = tqdm(val_MCP_loader,total=len(val_MCP_loader), desc='Validation')\n",
        "    for idx, batch in enumerate(val_loop):\n",
        "      model.eval()\n",
        "      input_ids = batch['input_ids'].to(device)\n",
        "      attention_mask = batch['attention_mask'].to(device)\n",
        "      labels = batch['labels'].to(device)\n",
        "      with torch.no_grad():\n",
        "        outputs = model(input_ids, \n",
        "                  attention_mask=attention_mask,\n",
        "                  labels=labels)\n",
        "        loss = outputs.loss\n",
        "        val_loss = val_loss + loss.item()\n",
        "\n",
        "    avg_train_loss.append(train_loss/ len(train_MCP_loader))\n",
        "    avg_val_loss.append(val_loss/ len(val_MCP_loader))"
      ],
      "metadata": {
        "id": "8PQhG8N51EUn",
        "colab": {
          "base_uri": "https://localhost:8080/"
        },
        "outputId": "3d1c2be1-bc9e-47cb-e4b5-86351fe35cd7"
      },
      "execution_count": null,
      "outputs": [
        {
          "output_type": "stream",
          "name": "stderr",
          "text": [
            "Epoch [0/5]: 100%|██████████| 2485/2485 [21:24<00:00,  1.94it/s, loss=0.127]\n",
            "Validation: 100%|██████████| 76/76 [00:15<00:00,  4.76it/s]\n",
            "Epoch [1/5]: 100%|██████████| 2485/2485 [21:28<00:00,  1.93it/s, loss=0.0163]\n",
            "Validation: 100%|██████████| 76/76 [00:15<00:00,  4.77it/s]\n",
            "Epoch [2/5]: 100%|██████████| 2485/2485 [21:29<00:00,  1.93it/s, loss=0.115]\n",
            "Validation: 100%|██████████| 76/76 [00:15<00:00,  4.77it/s]\n",
            "Epoch [3/5]: 100%|██████████| 2485/2485 [21:29<00:00,  1.93it/s, loss=0.126]\n",
            "Validation: 100%|██████████| 76/76 [00:15<00:00,  4.77it/s]\n",
            "Epoch [4/5]: 100%|██████████| 2485/2485 [21:29<00:00,  1.93it/s, loss=0.0281]\n",
            "Validation: 100%|██████████| 76/76 [00:15<00:00,  4.77it/s]\n",
            "Epoch [5/5]: 100%|██████████| 2485/2485 [21:31<00:00,  1.92it/s, loss=0.133]\n",
            "Validation: 100%|██████████| 76/76 [00:16<00:00,  4.74it/s]\n"
          ]
        }
      ]
    },
    {
      "cell_type": "code",
      "source": [
        "torch.save(model.state_dict(),\"/content/MSP_model.pt\")"
      ],
      "metadata": {
        "id": "qjpOvcFjNh_Y"
      },
      "execution_count": null,
      "outputs": []
    },
    {
      "cell_type": "code",
      "source": [
        "train_perplexity_list , val_perplexity_list = calculate_perplexity(avg_train_loss,avg_val_loss)"
      ],
      "metadata": {
        "id": "3lz7i8KqRXr_"
      },
      "execution_count": null,
      "outputs": []
    },
    {
      "cell_type": "markdown",
      "source": [
        "##### Graphs"
      ],
      "metadata": {
        "id": "e-ocKCf0Sdy5"
      }
    },
    {
      "cell_type": "code",
      "source": [
        "N = 6\n",
        "plt.style.use(\"ggplot\")\n",
        "plt.figure()\n",
        "plt.plot(np.arange(0, N), train_perplexity_list, label=\"train perplexity\")\n",
        "plt.plot(np.arange(0, N), val_perplexity_list, label=\"validation perplexity\")\n",
        "\n",
        "plt.title(\"Training & Validation Perplexity\")\n",
        "plt.xlabel(\"Epochs\")\n",
        "plt.ylabel(\"Perplexity\")\n",
        "plt.legend(loc=\"upper right\")\n",
        "plt.figure(figsize = (20,20))\n",
        "plt.show()"
      ],
      "metadata": {
        "id": "-AleH32dQ670",
        "colab": {
          "base_uri": "https://localhost:8080/",
          "height": 494
        },
        "outputId": "cb94610c-0b98-4acc-9158-997064c14a8f"
      },
      "execution_count": null,
      "outputs": [
        {
          "output_type": "display_data",
          "data": {
            "text/plain": [
              "<Figure size 640x480 with 1 Axes>"
            ],
            "image/png": "[encoded data removed]"
          },
          "metadata": {}
        },
        {
          "output_type": "display_data",
          "data": {
            "text/plain": [
              "<Figure size 2000x2000 with 0 Axes>"
            ]
          },
          "metadata": {}
        }
      ]
    },
    {
      "cell_type": "markdown",
      "source": [
        "### Inference"
      ],
      "metadata": {
        "id": "HLszip3U01jz"
      }
    },
    {
      "cell_type": "code",
      "source": [
        "from doduo.model import BertForMultiOutputClassification, BertMultiPairPooler\n",
        "from doduo.dataset import TURLColTypeTablewiseDataset , collate_fn\n",
        "from torch.utils.data import DataLoader, RandomSampler\n",
        "from sklearn.metrics import multilabel_confusion_matrix\n",
        "from sklearn.metrics import confusion_matrix, f1_score\n",
        "import numpy as np\n",
        "import warnings\n",
        "warnings.filterwarnings(\"ignore\", category=RuntimeWarning) "
      ],
      "metadata": {
        "id": "4qCNZIA5MWSp"
      },
      "execution_count": null,
      "outputs": []
    },
    {
      "cell_type": "markdown",
      "source": [
        "#### Inference Functions"
      ],
      "metadata": {
        "id": "_A8H7joHQhvt"
      }
    },
    {
      "cell_type": "code",
      "source": [
        "def f1_score_multilabel(true_list, pred_list):\n",
        "    conf_mat = multilabel_confusion_matrix(np.array(true_list),\n",
        "                                           np.array(pred_list))\n",
        "    agg_conf_mat = conf_mat.sum(axis=0)\n",
        "    # Note: Pos F1\n",
        "    # [[TN FP], [FN, TP]] if we consider 1 as the positive class\n",
        "    p = agg_conf_mat[1, 1] / agg_conf_mat[1, :].sum()\n",
        "    r = agg_conf_mat[1, 1] / agg_conf_mat[:, 1].sum()\n",
        "    \n",
        "    micro_f1 = 2 * p * r / (p  + r) if (p + r) > 0 else 0.\n",
        "    class_p = conf_mat[:, 1, 1] /  conf_mat[:, 1, :].sum(axis=1)\n",
        "    class_r = conf_mat[:, 1, 1] /  conf_mat[:, :, 1].sum(axis=1)\n",
        "    class_f1 = np.divide(2 * (class_p * class_r), class_p + class_r,\n",
        "                         out=np.zeros_like(class_p), where=(class_p + class_r) != 0)\n",
        "    class_f1 = np.nan_to_num(class_f1)\n",
        "    macro_f1 = class_f1.mean()\n",
        "    return (micro_f1, macro_f1, class_f1, conf_mat)\n",
        "\n",
        "\n",
        "\n",
        "def doduo_inference(test_dataloader,doduo_pretrained):\n",
        "  '''\n",
        "  Inference with respect to the test_dataloader and the pretrained model\n",
        "  '''\n",
        "  ts_pred_list = []\n",
        "  ts_true_list = []\n",
        "  # Test\n",
        "  for batch_idx, batch in enumerate(test_dataloader):\n",
        "\n",
        "          # Multi-column\n",
        "          logits, = doduo_pretrained(batch[\"data\"].T)\n",
        "          if len(logits.shape) == 2:\n",
        "              logits = logits.unsqueeze(0)\n",
        "          cls_indexes = torch.nonzero(\n",
        "              batch[\"data\"].T == tokenizer.cls_token_id)\n",
        "          filtered_logits = torch.zeros(cls_indexes.shape[0],\n",
        "                                        logits.shape[2]).to(device)\n",
        "          for n in range(cls_indexes.shape[0]):\n",
        "              i, j = cls_indexes[n]\n",
        "              logit_n = logits[i, j, :]\n",
        "              filtered_logits[n] = logit_n\n",
        "          if \"sato\" in task:\n",
        "              ts_pred_list += filtered_logits.argmax(\n",
        "                  1).cpu().detach().numpy().tolist()\n",
        "              ts_true_list += batch[\"label\"].cpu().detach().numpy(\n",
        "              ).tolist()\n",
        "          elif \"turl\" in task:\n",
        "              if \"turl-re\" in task:  # turl-re-colpair\n",
        "                  all_preds = (filtered_logits >= math.log(0.5)\n",
        "                                ).int().detach().cpu().numpy()\n",
        "                  all_labels = batch[\"label\"].cpu().detach().numpy()\n",
        "                  idxes = np.where(all_labels > 0)[0]\n",
        "                  ts_pred_list += all_preds[idxes, :].tolist()\n",
        "                  ts_true_list += all_labels[idxes, :].tolist()\n",
        "              elif task == \"turl\":\n",
        "                  ts_pred_list += (filtered_logits >= math.log(0.5)\n",
        "                                    ).int().detach().cpu().tolist()\n",
        "                  ts_true_list += batch[\"label\"].cpu().detach(\n",
        "                  ).numpy().tolist()\n",
        "            \n",
        "  return ts_true_list , ts_pred_list"
      ],
      "metadata": {
        "id": "y6pbVgxgPZvc"
      },
      "execution_count": null,
      "outputs": []
    },
    {
      "cell_type": "markdown",
      "source": [
        "#### Load Pretrained DODUO model"
      ],
      "metadata": {
        "id": "GsJengETQq2a"
      }
    },
    {
      "cell_type": "code",
      "source": [
        "device = torch.device('cuda') if torch.cuda.is_available() else torch.device('cpu')\n",
        "task = 'turl'\n",
        "\n",
        "\n",
        "doduo_pretrained = BertForMultiOutputClassification.from_pretrained(\n",
        "    'bert-base-uncased',\n",
        "    num_labels=255,\n",
        "    output_attentions=False,\n",
        "    output_hidden_states=False,\n",
        ")\n",
        "\n",
        "\n",
        "model_path = '/content/doduo/model/turlturl-re-colpair_mosato_bert_bert-base-uncased-bs16-ml-16__turl-1.00_turl-re-1.00=turl_best_micro_f1.pt'\n",
        "doduo_pretrained.load_state_dict(torch.load(model_path, map_location=device))\n"
      ],
      "metadata": {
        "id": "JdW_PRuSZIGK",
        "colab": {
          "base_uri": "https://localhost:8080/"
        },
        "outputId": "43eef8ac-202c-4f84-8bc8-668c0144f400"
      },
      "execution_count": null,
      "outputs": [
        {
          "output_type": "stream",
          "name": "stderr",
          "text": [
            "Some weights of the model checkpoint at bert-base-uncased were not used when initializing BertForMultiOutputClassification: ['cls.predictions.transform.LayerNorm.bias', 'cls.seq_relationship.weight', 'cls.predictions.bias', 'cls.predictions.transform.dense.bias', 'cls.predictions.transform.dense.weight', 'cls.predictions.transform.LayerNorm.weight', 'cls.predictions.decoder.weight', 'cls.seq_relationship.bias']\n",
            "- This IS expected if you are initializing BertForMultiOutputClassification from the checkpoint of a model trained on another task or with another architecture (e.g. initializing a BertForSequenceClassification model from a BertForPreTraining model).\n",
            "- This IS NOT expected if you are initializing BertForMultiOutputClassification from the checkpoint of a model that you expect to be exactly identical (initializing a BertForSequenceClassification model from a BertForSequenceClassification model).\n",
            "Some weights of BertForMultiOutputClassification were not initialized from the model checkpoint at bert-base-uncased and are newly initialized: ['classifier.weight', 'classifier.bias']\n",
            "You should probably TRAIN this model on a down-stream task to be able to use it for predictions and inference.\n"
          ]
        },
        {
          "output_type": "execute_result",
          "data": {
            "text/plain": [
              "<All keys matched successfully>"
            ]
          },
          "metadata": {},
          "execution_count": 26
        }
      ]
    },
    {
      "cell_type": "code",
      "source": [
        "doduo_pretrained.encoder = model.bert.encoder"
      ],
      "metadata": {
        "id": "UByxjGfVOp81"
      },
      "execution_count": null,
      "outputs": []
    },
    {
      "cell_type": "markdown",
      "source": [
        "#### Test Dataloader & Inference"
      ],
      "metadata": {
        "id": "rjmWo1MuQzbV"
      }
    },
    {
      "cell_type": "code",
      "source": [
        "tokenizer = BertTokenizer.from_pretrained('bert-base-uncased')\n",
        "\n",
        "\n",
        "filepath = \"data/table_col_type_serialized.pkl\"\n",
        "dataset_cls = TURLColTypeTablewiseDataset\n",
        "\n",
        "batch_size = 16\n",
        "max_length = 32\n",
        "\n",
        "\n",
        "test_dataset = dataset_cls(filepath=filepath,\n",
        "                            split=\"test\",\n",
        "                            tokenizer=tokenizer,\n",
        "                            max_length=max_length,\n",
        "                            multicol_only=False,\n",
        "                            device=device)\n",
        "test_dataloader = DataLoader(test_dataset,\n",
        "                              batch_size=batch_size,\n",
        "                              collate_fn=collate_fn)\n",
        "\n"
      ],
      "metadata": {
        "id": "R6rCgpLTr85P",
        "colab": {
          "base_uri": "https://localhost:8080/"
        },
        "outputId": "599fb0c1-aeb4-4744-cac8-b38cb353b3c8"
      },
      "execution_count": null,
      "outputs": [
        {
          "output_type": "stream",
          "name": "stderr",
          "text": [
            "/usr/local/lib/python3.10/dist-packages/sklearn/base.py:318: UserWarning: Trying to unpickle estimator MultiLabelBinarizer from version 0.22.1 when using version 1.2.2. This might lead to breaking code or invalid results. Use at your own risk. For more info please refer to:\n",
            "https://scikit-learn.org/stable/model_persistence.html#security-maintainability-limitations\n",
            "  warnings.warn(\n",
            "Truncation was not explicitly activated but `max_length` is provided a specific value, please use `truncation=True` to explicitly truncate examples to max length. Defaulting to 'longest_first' truncation strategy. If you encode pairs of sequences (GLUE-style) with the tokenizer you can select this strategy more precisely by providing a specific strategy to `truncation`.\n"
          ]
        }
      ]
    },
    {
      "cell_type": "code",
      "source": [
        "tokenizer.decode(test_dataset[1].get('data'))"
      ],
      "metadata": {
        "id": "9FQACx_ew4II",
        "colab": {
          "base_uri": "https://localhost:8080/",
          "height": 52
        },
        "outputId": "b2079dca-ef7b-43e5-e7f6-6bfed28ed1cb"
      },
      "execution_count": null,
      "outputs": [
        {
          "output_type": "execute_result",
          "data": {
            "text/plain": [
              "'[CLS] adelaide, sa barker, sa boothby, sa denison, tas eden - monaro, nsw grey, sa hume, nsw lilley, qld [SEP] [CLS] fred stacey archie cameron * grenfell price arthur beck john perkins oliver badman * thomas collins william jolly frank baker william mccall charles marr walter nairn eric [SEP] [CLS] cyril chambers archie cameron thomas sheehy john gaha allan fraser edgar russell arthur fuller james hadley charles adermann fred daly les haylen tom burke thomas williams [SEP]'"
            ],
            "application/vnd.google.colaboratory.intrinsic+json": {
              "type": "string"
            }
          },
          "metadata": {},
          "execution_count": 50
        }
      ]
    },
    {
      "cell_type": "code",
      "source": [
        "doduo_pretrained.to(device)\n",
        "\n",
        "ts_true_list , ts_pred_list = doduo_inference(test_dataloader,doduo_pretrained)\n",
        "ts_micro_f1, ts_macro_f1, ts_class_f1, ts_conf_mat = f1_score_multilabel(ts_true_list, ts_pred_list)"
      ],
      "metadata": {
        "id": "0Wle6FVmoKx_"
      },
      "execution_count": null,
      "outputs": []
    },
    {
      "cell_type": "code",
      "source": [
        "print('ts_micro_f1 : {}'.format(ts_micro_f1))\n",
        "print('ts_macro_f1 : {}'.format(ts_macro_f1))"
      ],
      "metadata": {
        "colab": {
          "base_uri": "https://localhost:8080/"
        },
        "id": "3J9kytxUXdcu",
        "outputId": "461625c3-2d5f-48e3-871f-3650c200cc0a"
      },
      "execution_count": null,
      "outputs": [
        {
          "output_type": "stream",
          "name": "stdout",
          "text": [
            "ts_micro_f1 : 0.9086148515631153\n",
            "ts_macro_f1 : 0.730616411747839\n"
          ]
        }
      ]
    }
  ]
}